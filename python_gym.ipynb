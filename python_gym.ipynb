{
 "cells": [
  {
   "cell_type": "markdown",
   "metadata": {},
   "source": [
    "# Python Gym  \n",
    "**Increase the dumbbell weights gradually**  \n",
    "\n",
    "**Hyung Jin Kim**  \n",
    "**bubjoin@gmail.com**  \n",
    "**MIT License**  "
   ]
  },
  {
   "cell_type": "markdown",
   "metadata": {},
   "source": [
    "**Imagine What Is Happening in a Computer Memory**  \n",
    "\n",
    "**Because on the computer memory,**  \n",
    "**we are solving problems between inputs and outputs**  \n",
    "**using data structures and algorithms through computer languages**  "
   ]
  },
  {
   "cell_type": "markdown",
   "metadata": {},
   "source": [
    "**Python 3.10+ Recommended**"
   ]
  },
  {
   "cell_type": "markdown",
   "metadata": {},
   "source": [
    "**The print() Function**  \n",
    "\n",
    "With bare eyes, we can not see inside the memory cells of a computer  \n",
    "\n",
    "We can use the print() function as the memory log of a computer  \n",
    "It helps us see what's in the memory cells of a computer  \n",
    "and what processes are happening in them\n",
    "\n",
    "It can be used to narrow down where and to find out what errors occur  \n",
    "Because we can insert the print() function almost anywhere in our code  \n",
    "That's why we first learn it when we start to practice a computer language  "
   ]
  },
  {
   "cell_type": "code",
   "execution_count": 956,
   "metadata": {},
   "outputs": [
    {
     "name": "stdout",
     "output_type": "stream",
     "text": [
      "Hello, world!\n"
     ]
    }
   ],
   "source": [
    "# The print function is useful \n",
    "# to check what is in the computer's memory and to debug our code\n",
    "\n",
    "print(\"Hello, world!\")"
   ]
  },
  {
   "cell_type": "markdown",
   "metadata": {},
   "source": [
    "**Variables - type hint, del, namespace, scope, dir, type, input**"
   ]
  },
  {
   "cell_type": "code",
   "execution_count": 957,
   "metadata": {},
   "outputs": [
    {
     "name": "stdout",
     "output_type": "stream",
     "text": [
      "True\n",
      "38\n"
     ]
    }
   ],
   "source": [
    "# Type hint is possible in Python 3.10+ like this, my_age: int\n",
    "\n",
    "my_age = 38 # my_age has global scope\n",
    "\n",
    "print('my_age' in dir())\n",
    "print(my_age)"
   ]
  },
  {
   "cell_type": "code",
   "execution_count": 958,
   "metadata": {},
   "outputs": [
    {
     "name": "stdout",
     "output_type": "stream",
     "text": [
      "False\n"
     ]
    }
   ],
   "source": [
    "# delete the access point to the object having value of 38\n",
    "# del occurs error when the target is not defined or already gone\n",
    "\n",
    "del my_age\n",
    "\n",
    "print('my_age' in dir()) # my_age has been deleted"
   ]
  },
  {
   "cell_type": "code",
   "execution_count": 959,
   "metadata": {},
   "outputs": [
    {
     "name": "stdout",
     "output_type": "stream",
     "text": [
      "['str', 'sum', 'super', 'tuple', 'type', 'vars', 'zip']\n"
     ]
    }
   ],
   "source": [
    "# In Python there are 4 types of variable scopes, and it prevents name clashes\n",
    "# Each module(file) has:\n",
    "\n",
    "# Local scope, it is a namespace in a function\n",
    "\n",
    "# Enclosing scope, a namespace between a nested function and the enclosing one\n",
    "# One can use 'nonlocal' in a nested function to find name in the enclosing one\n",
    "# nonlocal variable_name, it finds name in non-local scopes\n",
    "\n",
    "# Global scope, it is a namespace all the functions in the module can access\n",
    "# One can use 'global' keyword in a function to find name in global scope\n",
    "# global variable_name\n",
    "\n",
    "# Built-in scope, Python looks for name in it after failing in other scopes\n",
    "\n",
    "# L > E > G > B rule\n",
    "\n",
    "# Standard library module 'builtins' is used to make the built-in scope\n",
    "# You can use all the things in the built-in scope anywhere in Python\n",
    "\n",
    "# dir(arg) returns valid members(attributes and methods) names in an object\n",
    "b_scope = dir(__builtins__)[-7:]\n",
    "\n",
    "print(b_scope)"
   ]
  },
  {
   "cell_type": "code",
   "execution_count": 960,
   "metadata": {},
   "outputs": [
    {
     "name": "stdout",
     "output_type": "stream",
     "text": [
      "<class 'str'>\n"
     ]
    }
   ],
   "source": [
    "my_book = \"Poor Richard's Almanack\"\n",
    "check_data_type = type(my_book)\n",
    "\n",
    "print(check_data_type)"
   ]
  },
  {
   "cell_type": "code",
   "execution_count": 961,
   "metadata": {},
   "outputs": [
    {
     "name": "stdout",
     "output_type": "stream",
     "text": [
      "A Common-Sense Guide to Data Structures and Algorithms, Second Edition(Jay Wengrow)\n",
      "<class 'str'>\n"
     ]
    }
   ],
   "source": [
    "# The input() function gets keyboard inputs from users\n",
    "# and returns the input as a string\n",
    "\n",
    "book = input(\"What's your favorite book? \")\n",
    "\n",
    "print(book)\n",
    "print(type(book))"
   ]
  },
  {
   "cell_type": "markdown",
   "metadata": {},
   "source": [
    "**Data Types**  \n",
    "**- int, float, str, boolean, ...**  \n",
    "**- number system, base, underscore, floating point notation, complex number**  \n",
    "**- Unicode, encodings, escape sequence**  "
   ]
  },
  {
   "cell_type": "code",
   "execution_count": 962,
   "metadata": {},
   "outputs": [
    {
     "name": "stdout",
     "output_type": "stream",
     "text": [
      "[<class 'int'>, <class 'float'>, <class 'str'>, <class 'list'>]\n",
      "[<class 'tuple'>, <class 'dict'>, <class 'set'>, <class 'bool'>]\n",
      "[<class 'NoneType'>, <class 'ellipsis'>]\n"
     ]
    }
   ],
   "source": [
    "num_int = 0\n",
    "num_float = 0. # Adding dot to a number makes it float\n",
    "a_string = \"Benjamin Franklin\"\n",
    "a_list = []\n",
    "a_tuple = tuple()\n",
    "a_dict = {} # {} is a dictionary, not a set\n",
    "a_set = set()\n",
    "true_or_false = (0!=1)\n",
    "none = None\n",
    "\n",
    "# There are more types not listed here\n",
    "vars = [ num_int, num_float, a_string, a_list, \n",
    "         a_tuple, a_dict, a_set, true_or_false,\n",
    "         none, ... ]\n",
    "\n",
    "types_of_vars = [type(var) for var in vars] # List comprehension is concise\n",
    "\n",
    "print(types_of_vars[:4])\n",
    "print(types_of_vars[4:8])\n",
    "print(types_of_vars[8:])"
   ]
  },
  {
   "cell_type": "code",
   "execution_count": 963,
   "metadata": {},
   "outputs": [
    {
     "name": "stdout",
     "output_type": "stream",
     "text": [
      "255 255 255 255 0xff 0o377 0b11111111 255 255\n"
     ]
    }
   ],
   "source": [
    "# The 4 common number systems are:\n",
    "\n",
    "num = 255 # decimal\n",
    "\n",
    "num1 = 0xff # hexadecimal number system\n",
    "num2 = 0o377 # octal\n",
    "num3 = 0b11111111 # binary\n",
    "\n",
    "# The hex(), oct(), bin() functions returns strings\n",
    "str1 = hex(num)\n",
    "str2 = oct(num)\n",
    "str3 = bin(num)\n",
    "\n",
    "# There are two ways of using int() function\n",
    "# One of them is like int(floating-point numbers) to return a integer\n",
    "# And the other is like:\n",
    "num4 = int(str1, 16) # int(value 'string', the base of the current system)\n",
    "num5 = int(oct(num), 8)\n",
    "\n",
    "print(num, num1, num2, num3, str1, str2, str3, num4, num5)"
   ]
  },
  {
   "cell_type": "code",
   "execution_count": 964,
   "metadata": {},
   "outputs": [
    {
     "name": "stdout",
     "output_type": "stream",
     "text": [
      "True\n"
     ]
    }
   ],
   "source": [
    "# Underscore makes long numbers read better\n",
    "\n",
    "long_number1 = 1000000000000 # trillion\n",
    "long_number2 = 1000_000_000_000 # trillion\n",
    "equal = long_number1 == long_number2\n",
    "\n",
    "print(equal)"
   ]
  },
  {
   "cell_type": "code",
   "execution_count": 965,
   "metadata": {},
   "outputs": [
    {
     "name": "stdout",
     "output_type": "stream",
     "text": [
      "7,753,000,000\n"
     ]
    }
   ],
   "source": [
    "# Floating point notation shows numbers as decimal fractions and exponents\n",
    "\n",
    "population = 7.753e9\n",
    "\n",
    "print(f\"{population:,.0f}\")"
   ]
  },
  {
   "cell_type": "code",
   "execution_count": 966,
   "metadata": {},
   "outputs": [
    {
     "name": "stdout",
     "output_type": "stream",
     "text": [
      "<class 'complex'>\n",
      "(2+3j) (2-3j) (13+0j)\n",
      "The real part of 2 is: 2\n",
      "The image part of 2 is: 0\n"
     ]
    }
   ],
   "source": [
    "# A complex number has a real part and an imaginary part\n",
    "\n",
    "c_num = 2 + 3j # c_num.real + c_num.imag * 1j\n",
    "\n",
    "\n",
    "# A conjugate has identical real part,\n",
    "# and the image part of equal magnitude with opposite sign\n",
    "conjugate = c_num.conjugate() # 2 - 3j \n",
    "\n",
    "# We can't use // operator(called floor division operator) for complex numbers\n",
    "# We can use the other arithmetic operators for complex numbers, +, -, *, /, **\n",
    "c_num_x_con = c_num * c_num.conjugate() # 13 + 0j\n",
    "\n",
    "# Be careful\n",
    "# In dir(2), you can see imag\n",
    "# But 2.imag makes SyntaxError: invalid decimal literal\n",
    "# The right way is:\n",
    "two = 2\n",
    "two_real = two.real\n",
    "two_imag = two.imag\n",
    "\n",
    "print(type(conjugate))\n",
    "print(c_num, conjugate, c_num_x_con)\n",
    "print(\"The real part of 2 is: \" + str(two_real))\n",
    "print(\"The image part of 2 is: \" + str(two_imag))"
   ]
  },
  {
   "cell_type": "code",
   "execution_count": 967,
   "metadata": {},
   "outputs": [
    {
     "name": "stdout",
     "output_type": "stream",
     "text": [
      "😀😁😂😃\n",
      "0x1f600\n",
      "abc\n"
     ]
    }
   ],
   "source": [
    "# Unicode and encoding are different things\n",
    "# Python uses Unicode\n",
    "# In Unicode, each character has its own code point\n",
    "# Endcoding is the way converting a code point into a binary string\n",
    "# Python uses Unicode Translation Format UTF-8 and other encodings\n",
    "\n",
    "smiley1 = chr(0x1F600) # The Unicode code point U+1F600\n",
    "smiley2 = chr(0x1F601) # chr() returns the character of a code point\n",
    "smiley3 = chr(0x1F602) # Face with Tears of Joy\n",
    "smiley4 = chr(0x1F603)\n",
    "smiley_bros = smiley1 + smiley2 + smiley3 +smiley4\n",
    "\n",
    "# ord() takes only 1 charcter, and returns the code point of it\n",
    "# The name of the ord() function stands for ordinal\n",
    "smiley1_code_point = hex(ord('😀'))\n",
    "\n",
    "abc = chr(0x0061) + chr(0x0061 + 1) + chr(0x0061 + 2)\n",
    "\n",
    "print(smiley_bros)\n",
    "print(smiley1_code_point)\n",
    "print(abc)"
   ]
  },
  {
   "cell_type": "code",
   "execution_count": 968,
   "metadata": {},
   "outputs": [
    {
     "name": "stdout",
     "output_type": "stream",
     "text": [
      "\\/\\/ Welcome to 'Python Gym'! \\/\\/\n",
      "Let's play with data using \"Python\"\n",
      "The powerful and interesting computer language!\n"
     ]
    }
   ],
   "source": [
    "\n",
    "long_string = \"\\\\/\\\\/ Welcome to \\'Python Gym\\'! \\\\/\\\\/\\n\\\n",
    "Let's play with data using \\\"Python\\\"\\nThe powerful and interesting \\\n",
    "computer language!\"\n",
    "\n",
    "print(long_string)"
   ]
  },
  {
   "cell_type": "markdown",
   "metadata": {},
   "source": [
    "**Operators**  \n",
    "**- bitwise operators**   \n",
    "**- membership operators, identity operators**  \n",
    "**- logical operators, comparison operators**  \n",
    "**- assignment operators, arithmetic operators**  "
   ]
  },
  {
   "cell_type": "code",
   "execution_count": 953,
   "metadata": {},
   "outputs": [
    {
     "name": "stdout",
     "output_type": "stream",
     "text": [
      "bitwise and: (1,1) -> 1\n",
      "bitwise and: (1,0) -> 0\n",
      "bitwise and: (0,1) -> 0\n",
      "bitwise and: (0,0) -> 0\n",
      "bitwise or: (1,1) -> 1\n",
      "bitwise or: (1,0) -> 1\n",
      "bitwise or: (0,1) -> 1\n",
      "bitwise or: (0,0) -> 0\n",
      "bitwise xor: (1,1) -> 0\n",
      "bitwise xor: (1,0) -> 1\n",
      "bitwise xor: (0,1) -> 1\n",
      "bitwise xor: (0,0) -> 0\n",
      "our xor gate: (1,1) -> 0\n",
      "our xor gate: (1,0) -> 1\n",
      "our xor gate: (0,1) -> 1\n",
      "our xor gate: (0,0) -> 0\n"
     ]
    }
   ],
   "source": [
    "inputs = ((1,1),(1,0),(0,1),(0,0))\n",
    "\n",
    "for a,b in inputs:\n",
    "    bitwise_and = a & b\n",
    "    print(f\"bitwise and: ({a},{b}) -> {bitwise_and}\")\n",
    "\n",
    "for a,b in inputs:\n",
    "    bitwise_or = a | b\n",
    "    print(f\"bitwise or: ({a},{b}) -> {bitwise_or}\")\n",
    "\n",
    "for a,b in inputs:\n",
    "    bitwise_xor = a ^ b\n",
    "    print(f\"bitwise xor: ({a},{b}) -> {bitwise_xor}\")\n",
    "\n",
    "# Let's make a xor gate with using the other bitwise operators except xor\n",
    "for a,b in inputs:\n",
    "    my_xor_gate = (a | b) & (~ (a & b)) # &(and), |(or), ~(not)\n",
    "    print(f\"our xor gate: ({a},{b}) -> {my_xor_gate}\")"
   ]
  },
  {
   "cell_type": "markdown",
   "metadata": {},
   "source": [
    "# 🌟  "
   ]
  },
  {
   "cell_type": "code",
   "execution_count": 952,
   "metadata": {},
   "outputs": [
    {
     "name": "stdout",
     "output_type": "stream",
     "text": [
      "10\n",
      "-6\n",
      "-6 1010 -110\n",
      "1010\n"
     ]
    }
   ],
   "source": [
    "# For bitwise operations,\n",
    "# Python converts the sign magnitude notation into 2's complement to process,\n",
    "# and it returns the result back in the sign magnitude\n",
    "# In Python, int type has an unlimited length within the computer's memory size\n",
    "# When we think about the bit operation, we should remember the things above\n",
    "\n",
    "i = -6 # 1...11111010 in 2's complement representation\n",
    "j = i & 0b1111 # 0...00001010\n",
    "\n",
    "print(j) # 10\n",
    "\n",
    "k = ~ (j ^ 0b1111) # ~ (0...00000101) -> (1...11111010)\n",
    "\n",
    "print(k) # -6\n",
    "\n",
    "print(f\"{i} {j:b} {k:b}\") # -6 1010 -110\n",
    "\n",
    "\n",
    "l = k & 0b1111 # 0...00001010, it lost (-)\n",
    "\n",
    "print(f\"{l:b}\") # 1010"
   ]
  },
  {
   "cell_type": "code",
   "execution_count": 951,
   "metadata": {},
   "outputs": [
    {
     "name": "stdout",
     "output_type": "stream",
     "text": [
      "bitwise not: 10111110 -> 01000001\n",
      "0b1\n",
      "0b1\n",
      "True\n",
      "-0b1\n",
      "0b1111\n",
      "False\n",
      "15\n"
     ]
    }
   ],
   "source": [
    "# The bitwise not operator inverts all the bits of a number\n",
    "\n",
    "b_num = 0b10111110\n",
    "bitwise_not = ~ b_num\n",
    "\n",
    "# The way to get binary notation of a number in Python is below\n",
    "bin_b_num = bin(0b11111111 & b_num) # The bin() function returns a string\n",
    "bin_bitwise_not = bin(0b11111111 & bitwise_not) # & operator returns an integer\n",
    "\n",
    "# Remove '0b' and fill in the blanks with zeros in an 8-character wide string\n",
    "# Aligning the slice to the right(>) is very, very important\n",
    "print(f\"bitwise not: {bin_b_num[2:]:0>8} -> {bin_bitwise_not[2:]:0>8}\")\n",
    "\n",
    "# See the difference\n",
    "print(bin(1)) # 0b1\n",
    "print(bin(15 & 1)) #0b1\n",
    "print(bin(1) == bin(15 & 1)) #True\n",
    "\n",
    "print(bin(-1)) # -0b1\n",
    "print(bin(15 & -1)) #0b1111\n",
    "print(bin(-1) == bin(15 & -1)) #False\n",
    "\n",
    "# Be careful, Python reads 0b1111 as the unsigned int 15, not -1\n",
    "print(0b1111)"
   ]
  },
  {
   "cell_type": "code",
   "execution_count": 950,
   "metadata": {},
   "outputs": [
    {
     "name": "stdout",
     "output_type": "stream",
     "text": [
      "   1    -1\n",
      "   2    -2\n",
      "   4    -4\n",
      "   8    -8\n",
      "  16   -16\n",
      "  32   -32\n",
      "  64   -64\n",
      " 128  -128\n"
     ]
    }
   ],
   "source": [
    "# The bitwise left shift is equivalent to multiplying a number by 2**n\n",
    "# filling zeros in the right voids in the 2's complement representation\n",
    "\n",
    "for n in range(0,8):\n",
    "    bitwise_shift_left1 = 1 << n\n",
    "    bitwise_shift_left2 = -1 << n\n",
    "\n",
    "    print(f\"{bitwise_shift_left1:>4}  {bitwise_shift_left2:>4}\")"
   ]
  },
  {
   "cell_type": "code",
   "execution_count": 949,
   "metadata": {},
   "outputs": [
    {
     "name": "stdout",
     "output_type": "stream",
     "text": [
      "87654321\n",
      "01111111: 127\n",
      "00111111: 63\n",
      "00011111: 31\n",
      "00001111: 15\n",
      "00000111: 7\n",
      "00000011: 3\n",
      "00000001: 1\n",
      "00000000: 0\n",
      "\n",
      "87654321\n",
      "10000000: -128\n",
      "11000000: -64\n",
      "11100000: -32\n",
      "11110000: -16\n",
      "11111000: -8\n",
      "11111100: -4\n",
      "11111110: -2\n",
      "11111111: -1\n"
     ]
    }
   ],
   "source": [
    "# The bitwise right shift for a number by n places is\n",
    "# equivalent to doing floor division(//) to the number by 2**n\n",
    "\n",
    "print(87654321)\n",
    "for n in range(0,8):\n",
    "    bitwise_shift_right = 127 >> n\n",
    "    bin_bitwise_shift_right = bin(0b11111111 & bitwise_shift_right)\n",
    "    print(f\"{bin_bitwise_shift_right[2:]:0>8}: {bitwise_shift_right}\")\n",
    "\n",
    "print()\n",
    "\n",
    "print(87654321)\n",
    "for n in range(0,8):\n",
    "    bitwise_shift_right = -128 >> n\n",
    "    bin_bitwise_shift_right = bin(0b11111111 & bitwise_shift_right)\n",
    "    print(f\"{bin_bitwise_shift_right[2:]:0>8}: {bitwise_shift_right}\")"
   ]
  },
  {
   "cell_type": "code",
   "execution_count": 948,
   "metadata": {},
   "outputs": [
    {
     "name": "stdout",
     "output_type": "stream",
     "text": [
      "True\n",
      "True\n"
     ]
    }
   ],
   "source": [
    "# Membership operators are: in, not in\n",
    "\n",
    "gym = \"Python Gym\"\n",
    "python_in = \"Python\" in gym\n",
    "\n",
    "print(python_in)\n",
    "\n",
    "nutrients = ['proteins', 'carbohydrates', 'fats', 'vitamins', 'minerals']\n",
    "no_sugar = \"sugar\" not in nutrients\n",
    "\n",
    "print(no_sugar)\n"
   ]
  },
  {
   "cell_type": "code",
   "execution_count": 947,
   "metadata": {},
   "outputs": [
    {
     "name": "stdout",
     "output_type": "stream",
     "text": [
      "True\n",
      "True\n"
     ]
    }
   ],
   "source": [
    "# Identity operators are: is, is not\n",
    "\n",
    "list1 = ['proteins', 'carbohydrates', 'fats', 'vitamins', 'minerals']\n",
    "list2 = list1 # Substitution\n",
    "list3 = list1[:] # Shallow copy \n",
    "\n",
    "print(list1 is list2)\n",
    "print(list1 is not list3)"
   ]
  },
  {
   "cell_type": "code",
   "execution_count": 946,
   "metadata": {},
   "outputs": [
    {
     "name": "stdout",
     "output_type": "stream",
     "text": [
      "True\n",
      "True\n",
      "False\n"
     ]
    }
   ],
   "source": [
    "# Logical operators are: and, or, true\n",
    "\n",
    "print(True and True)\n",
    "print(True or False)\n",
    "print(not True)"
   ]
  },
  {
   "cell_type": "code",
   "execution_count": 945,
   "metadata": {},
   "outputs": [
    {
     "name": "stdout",
     "output_type": "stream",
     "text": [
      "True\n",
      "False\n",
      "True\n",
      "False\n"
     ]
    }
   ],
   "source": [
    "# Comparison operators are used like:\n",
    "\n",
    "print(0 == 0)\n",
    "print(0 != 0)\n",
    "print(1 > 0)\n",
    "print(1 <= 0)"
   ]
  },
  {
   "cell_type": "code",
   "execution_count": 944,
   "metadata": {},
   "outputs": [
    {
     "name": "stdout",
     "output_type": "stream",
     "text": [
      "1\n",
      "1\n",
      "1\n",
      "1\n"
     ]
    }
   ],
   "source": [
    "# Assignment operators are used like:\n",
    "\n",
    "a = 1\n",
    "a += 1\n",
    "print(1)\n",
    "\n",
    "b = 7\n",
    "b %= 2\n",
    "print(b)\n",
    "\n",
    "c = 0\n",
    "c |= 1\n",
    "print(c)\n",
    "\n",
    "d = 3\n",
    "d >>= 1\n",
    "print(d)"
   ]
  },
  {
   "cell_type": "code",
   "execution_count": 943,
   "metadata": {},
   "outputs": [
    {
     "name": "stdout",
     "output_type": "stream",
     "text": [
      "8.0\n",
      "<class 'float'>\n",
      "1.4142135623730951\n",
      "8.999999999999998\n"
     ]
    }
   ],
   "source": [
    "# Arithmetic operators are:\n",
    "# + addition, - subtraction\n",
    "# * multiplication, / division\n",
    "# // floor division, % modulus\n",
    "# ** exponentiation\n",
    "\n",
    "f = 16 / 2 # 8.0, float\n",
    "print(f)\n",
    "print(type(f))\n",
    "\n",
    "sqrt = 2**0.5 # square root\n",
    "print(sqrt)\n",
    "\n",
    "test = (9*9*9)**(1/3) # not safe\n",
    "print(test)"
   ]
  },
  {
   "cell_type": "code",
   "execution_count": 942,
   "metadata": {},
   "outputs": [
    {
     "name": "stdout",
     "output_type": "stream",
     "text": [
      "True\n",
      "True\n",
      "No pain, no gain!\n",
      "GOGOGO\n"
     ]
    }
   ],
   "source": [
    "# Operators relating to strings are like:\n",
    "\n",
    "print(\"PYTHON GYM\".title() == \"Python Gym\")\n",
    "print(\"Python Gym\".lower() != \"Python Gym\".upper())\n",
    "print(\"No pain, \" + \"no gain!\")\n",
    "print(\"GO\" * 3)"
   ]
  },
  {
   "cell_type": "markdown",
   "metadata": {},
   "source": [
    "**Expressions**  \n",
    "**- expression**  \n",
    "**- operator precedence**  \n",
    "**- parenthesis** "
   ]
  },
  {
   "cell_type": "code",
   "execution_count": null,
   "metadata": {},
   "outputs": [],
   "source": [
    "# An expression is something represents a value\n",
    "# or a combination of expressions\n",
    "# e.g. 2+1, ~1, (1+1)**2 -1, \"Python 3\", '[a-z+]', 1 == 1, 0 and 0, ...\n",
    "# It can have operators and operands"
   ]
  },
  {
   "cell_type": "code",
   "execution_count": 932,
   "metadata": {},
   "outputs": [
    {
     "name": "stdout",
     "output_type": "stream",
     "text": [
      "1: (), [], {}\n",
      "2: l[idx], l[idx:idx], f(args), obj.attr\n",
      "3: await\n",
      "4: **(group right to left)\n",
      "5: +num, -num, ~num\n",
      "6: *, @, /, //, %\n",
      "7: +, -\n",
      "8: <<, >>\n",
      "9: &\n",
      "10: ^\n",
      "11: |\n",
      "12: is, is not, in, not in, ==, !=, >, >=, <, <=\n",
      "13: not\n",
      "14: and\n",
      "15: or\n",
      "16: if-else\n",
      "17: lambda\n",
      "18: :=\n",
      "\n",
      "81\n",
      "12\n",
      "0\n",
      "True\n",
      "False\n",
      "True\n",
      "True\n"
     ]
    }
   ],
   "source": [
    "# There is operator precedence\n",
    "\n",
    "p = [\"(), [], {}\", \"l[idx], l[idx:idx], f(args), obj.attr\",\n",
    "     \"await\",\n",
    "     \"**(group right to left)\", \"+num, -num, ~num\", \n",
    "     \"*, @, /, //, %\", \"+, -\", \"<<, >>\",\n",
    "     \"&\", \"^\", \"|\", \n",
    "     \"is, is not, in, not in, ==, !=, >, >=, <, <=\", \n",
    "     \"not\", \"and\", \"or\", \"if-else\", \"lambda\",\n",
    "     \":=\"]\n",
    "\n",
    "for index, operator in enumerate(p):\n",
    "    print(f\"{index+1}: {operator}\")\n",
    "\n",
    "print()\n",
    "\n",
    "print(3**2**2) # 81\n",
    "\n",
    "print(100 and 3 << 2) # 12\n",
    "print(  0 and 3 << 2) # 0\n",
    "\n",
    "print(2!=(1!=1)) # True\n",
    "print(2!=1!=1) # False\n",
    "\n",
    "# Be careful!\n",
    "expression = 2 < 1 + 4 == 5 # True, why?\n",
    "print(expression)\n",
    "\n",
    "expression = 2 < 5 <= 5\n",
    "print(expression) # True\n"
   ]
  },
  {
   "cell_type": "code",
   "execution_count": null,
   "metadata": {},
   "outputs": [],
   "source": [
    "# We can use parenthesis instead of memorizing the operator precedence\n",
    "# Because parenthesis have priority over the others"
   ]
  },
  {
   "cell_type": "markdown",
   "metadata": {},
   "source": [
    "**Control Flow**  \n",
    "**- if, elif, else**  \n",
    "**- match and case(Python 3.10+)**  \n",
    "**- for, while, continue, else, break**  "
   ]
  },
  {
   "cell_type": "code",
   "execution_count": 941,
   "metadata": {},
   "outputs": [
    {
     "name": "stdout",
     "output_type": "stream",
     "text": [
      "Python 3\n"
     ]
    }
   ],
   "source": [
    "# Selection\n",
    "\n",
    "ver = 3\n",
    "\n",
    "# If ver is None, an error occurs, because\n",
    "# '>=' is not supported between the None and the int types\n",
    "# So we check first if ver is None or not\n",
    "if ver:\n",
    "    if ( ver >= 2 ) and ( ver < 3 ):\n",
    "        print(\"Python 2\")\n",
    "    elif 3 <= ver < 4: \n",
    "        print(\"Python 3\")\n",
    "    else:\n",
    "        print(\"Really?\")\n",
    "else:\n",
    "    print(\"None\")"
   ]
  },
  {
   "cell_type": "code",
   "execution_count": null,
   "metadata": {},
   "outputs": [],
   "source": [
    "# The match statement and case statements in Python 3.10+\n",
    "\n",
    "# for c in ['p','c','f',' ']:\n",
    "#     match c:\n",
    "#         case 'p':\n",
    "#             print(\"proteins\")\n",
    "#         case 'c':\n",
    "#             print(\"carbohydrates\")\n",
    "#         case 'f':\n",
    "#             print(\"fats\")\n",
    "#         case default:\n",
    "#             print(\"vitamins and minerals\")"
   ]
  },
  {
   "cell_type": "code",
   "execution_count": 940,
   "metadata": {},
   "outputs": [
    {
     "name": "stdout",
     "output_type": "stream",
     "text": [
      " 2 x 1  =  2   3 x 1  =  3   4 x 1  =  4   5 x 1  =  5  \n",
      " 2 x 2  =  4   3 x 2  =  6   4 x 2  =  8   5 x 2  = 10  \n",
      " 2 x 3  =  6   3 x 3  =  9   4 x 3  = 12   5 x 3  = 15  \n",
      " 2 x 4  =  8   3 x 4  = 12   4 x 4  = 16   5 x 4  = 20  \n",
      " 2 x 5  = 10   3 x 5  = 15   4 x 5  = 20   5 x 5  = 25  \n",
      " 2 x 6  = 12   3 x 6  = 18   4 x 6  = 24   5 x 6  = 30  \n",
      " 2 x 7  = 14   3 x 7  = 21   4 x 7  = 28   5 x 7  = 35  \n",
      " 2 x 8  = 16   3 x 8  = 24   4 x 8  = 32   5 x 8  = 40  \n",
      " 2 x 9  = 18   3 x 9  = 27   4 x 9  = 36   5 x 9  = 45  \n",
      "\n",
      " 6 x 1  =  6   7 x 1  =  7   8 x 1  =  8   9 x 1  =  9  \n",
      " 6 x 2  = 12   7 x 2  = 14   8 x 2  = 16   9 x 2  = 18  \n",
      " 6 x 3  = 18   7 x 3  = 21   8 x 3  = 24   9 x 3  = 27  \n",
      " 6 x 4  = 24   7 x 4  = 28   8 x 4  = 32   9 x 4  = 36  \n",
      " 6 x 5  = 30   7 x 5  = 35   8 x 5  = 40   9 x 5  = 45  \n",
      " 6 x 6  = 36   7 x 6  = 42   8 x 6  = 48   9 x 6  = 54  \n",
      " 6 x 7  = 42   7 x 7  = 49   8 x 7  = 56   9 x 7  = 63  \n",
      " 6 x 8  = 48   7 x 8  = 56   8 x 8  = 64   9 x 8  = 72  \n",
      " 6 x 9  = 54   7 x 9  = 63   8 x 9  = 72   9 x 9  = 81  \n",
      "\n"
     ]
    }
   ],
   "source": [
    "# Using doouble-for loops, we can make a multiplication table\n",
    "\n",
    "for i in range(2,10,4):\n",
    "    for j in range(1,10):\n",
    "        print(f\"{i:>2} x {j:<2} = {i*j:>2}\", end=\"  \")\n",
    "        print(f\"{i+1:>2} x {j:<2} = {(i+1)*j:2}\", end=\"  \")\n",
    "        print(f\"{i+2:>2} x {j:<2} = {(i+2)*j:>2}\", end=\"  \")\n",
    "        print(f\"{i+3:>2} x {j:<2} = {(i+3)*j:>2}\", end=\"  \")\n",
    "        if (i==2) or (i==6): print()\n",
    "        if (j==9): print()"
   ]
  },
  {
   "cell_type": "code",
   "execution_count": 939,
   "metadata": {},
   "outputs": [
    {
     "name": "stdout",
     "output_type": "stream",
     "text": [
      "0 3 8 15 24 35 48 63 80 99 120 143 168 195 224 255 288 323 360 399 \n",
      "2850\n"
     ]
    }
   ],
   "source": [
    "# Using the while loop, we can get the sum of a progression quickly\n",
    "\n",
    "n = 0\n",
    "sum = 0\n",
    "\n",
    "while True:\n",
    "    n += 1\n",
    "    a_n = n**2 - 1 # The general form of a progression\n",
    "    print(a_n, end=\" \")\n",
    "    sum += a_n\n",
    "    if n==20: # The last term\n",
    "        print()\n",
    "        break\n",
    "\n",
    "print(sum)"
   ]
  },
  {
   "cell_type": "code",
   "execution_count": 938,
   "metadata": {},
   "outputs": [
    {
     "name": "stdout",
     "output_type": "stream",
     "text": [
      "👉:1F449 🐍:1F40D 💰:1F4B0 🔒:1F512 🐉:1F409 🔑:1F511 \n",
      "STAGE : ['🐍', '🐉', '💰', '🔒', '🐍', '💰', '🔑', '🔒', '🔑', '🔑']\n",
      "STAGE CLEAR!\n",
      "SCORE : HP 23 Money 20\n",
      "LUCKY!\n"
     ]
    }
   ],
   "source": [
    "# Now we can go to the random maze\n",
    "# We are lucky if we clear the stage and get some money\n",
    "\n",
    "import random\n",
    "\n",
    "MAZE_SIZE = 10\n",
    "\n",
    "items = ['👉', '🐍', '💰','🔒', '🐉', '🔑']\n",
    "\n",
    "for cp in items:\n",
    "    print(f\"{cp}:{ord(cp):X}\", end=\" \")\n",
    "print()\n",
    "\n",
    "maze = []\n",
    "\n",
    "for cnt in range(MAZE_SIZE):\n",
    "    items_random_index = random.randint(0, len(items)-1)\n",
    "    maze.append(items[items_random_index])\n",
    "\n",
    "print(f\"STAGE : {maze}\")\n",
    "\n",
    "hp = 100\n",
    "key = False\n",
    "money = 0\n",
    "pos = 0\n",
    "clear = False\n",
    "\n",
    "while hp > 0:\n",
    "    wegot = ord(maze[pos])\n",
    "\n",
    "    if wegot == 0x1F511:\n",
    "        key = True\n",
    "    elif wegot == 0x1F512:\n",
    "        if key:\n",
    "            print(\"STAGE CLEAR!\")\n",
    "            print(f\"SCORE : HP {hp:<2} Money {money:<}\")\n",
    "            clear = True\n",
    "            break\n",
    "    elif wegot == 0x1F40D:\n",
    "        hp -= 10\n",
    "    elif wegot == 0x1F409:\n",
    "        hp -= 50\n",
    "    elif wegot == 0x1F4B0:\n",
    "        money += 10\n",
    "    else:\n",
    "        pass\n",
    "    \n",
    "    hp = hp - 1\n",
    "\n",
    "    if pos == (MAZE_SIZE -1):\n",
    "        pos = 0\n",
    "    else:\n",
    "        pos += 1\n",
    "\n",
    "if not clear:\n",
    "    print(\"GAME OVER\")\n",
    "    print(f\"SCORE : HP {hp:<2} Money {money:<}\")\n",
    "elif clear and money:\n",
    "    print(\"LUCKY!\")\n",
    "else:\n",
    "    pass"
   ]
  },
  {
   "cell_type": "code",
   "execution_count": 934,
   "metadata": {},
   "outputs": [
    {
     "name": "stdout",
     "output_type": "stream",
     "text": [
      "continue:\n",
      "0 1 3 4 \n",
      "We reached the end of the for statement\n",
      "without printing the number 2\n",
      "\n",
      "break:\n",
      "0 1 "
     ]
    }
   ],
   "source": [
    "# The for loop with continue, else, break\n",
    "\n",
    "print(\"continue:\")\n",
    "\n",
    "for i in range(5):\n",
    "    if i == 2:\n",
    "        # The continue ignores the below rest of the code\n",
    "        # in the iteration at the moment, and continue iterating again\n",
    "        continue\n",
    "    print(i, end=' ')\n",
    "else:\n",
    "    print(\"\\nWe reached the end of the for statement\")\n",
    "    print(\"without printing the number 2\")\n",
    "\n",
    "print(\"\\nbreak:\")\n",
    "\n",
    "for i in range(5):\n",
    "    if i == 2:\n",
    "        break # It stops the iteration and go out the for statement\n",
    "    print(i, end=' ')\n",
    "else:\n",
    "    print(\"Here is the finish line of the for statement\")\n",
    "    print(\"The break can not reach the finish line\")"
   ]
  },
  {
   "cell_type": "markdown",
   "metadata": {},
   "source": [
    "**Functions**  \n",
    "**- arguments, return**  \n",
    "**- type hint**  \n",
    "**- docstrings**  \n",
    "**- scope, nonlocal**  \n"
   ]
  },
  {
   "cell_type": "code",
   "execution_count": 57,
   "metadata": {},
   "outputs": [
    {
     "name": "stdout",
     "output_type": "stream",
     "text": [
      "<class 'tuple'>\n",
      "2022-09-20\n",
      "Bench press 50Kg 5 sets 12.4 average reps # shake : 2 cups\n",
      "\n",
      "Help on function workout in module __main__:\n",
      "\n",
      "workout(powerlifting, weights=40, *reps, **memo) -> tuple[str, str]\n",
      "    powerlifting: str, weights: int, \n",
      "    reps: tuple[int, ...], memo: dict[str, str]\n",
      "    making record, and returns date, record\n",
      "\n",
      "None\n"
     ]
    }
   ],
   "source": [
    "\n",
    "from datetime import datetime\n",
    "\n",
    "def workout(powerlifting, weights=40, *reps, **memo) -> tuple[str, str]:\n",
    "    \"\"\"powerlifting: str, weights: int, \n",
    "    reps: tuple[int, ...], memo: dict[str, str]\n",
    "    making record, and returns date, record\"\"\"\n",
    "\n",
    "    if weights > 0:\n",
    "        sets = len(reps)\n",
    "        avg_reps = sum(reps)/sets\n",
    "        record = powerlifting + \" \" + str(weights) + \"Kg\" + \\\n",
    "            \" \" + str(sets) + \" sets\" + \" \" \\\n",
    "                + str(avg_reps) +\" average reps \"\n",
    "\n",
    "        for w in memo:\n",
    "            record = record + \"# \" + w + \" : \" + memo[w]\n",
    "        \n",
    "        record = record + '\\n'\n",
    "\n",
    "    date = datetime.today().strftime('%Y-%m-%d')\n",
    "    return date, record\n",
    "\n",
    "just_do_it = workout(\"Bench press\", 50, 10, 12, 15, 15, 10, shake=\"2 cups\")\n",
    "\n",
    "print(type(just_do_it))\n",
    "\n",
    "today, bench = just_do_it\n",
    "\n",
    "print(today)\n",
    "print(bench)\n",
    "\n",
    "workout_help = help(workout)\n",
    "\n",
    "print(workout_help)"
   ]
  },
  {
   "cell_type": "code",
   "execution_count": 58,
   "metadata": {},
   "outputs": [
    {
     "name": "stdout",
     "output_type": "stream",
     "text": [
      "12.4\n"
     ]
    }
   ],
   "source": [
    "# Type Hinting\n",
    "\n",
    "def avg_reps(*reps: int) -> float:\n",
    "    sets: int = len(reps)\n",
    "    avg: float = sum(reps)/sets\n",
    "    return avg\n",
    "\n",
    "today_avg_reps = avg_reps(10, 12, 15, 15, 10)\n",
    "\n",
    "print(today_avg_reps)"
   ]
  },
  {
   "cell_type": "code",
   "execution_count": 19,
   "metadata": {},
   "outputs": [
    {
     "name": "stdout",
     "output_type": "stream",
     "text": [
      "local1\n",
      "local2\n"
     ]
    }
   ],
   "source": [
    "# Scope Quiz 1: global\n",
    "\n",
    "wow = \"global\"\n",
    "\n",
    "def local1():\n",
    "    wow = \"local1\"\n",
    "    def local2():\n",
    "        global wow\n",
    "        wow = \"local2\"\n",
    "    local2()\n",
    "    print(wow)\n",
    "\n",
    "quiz = local1()\n",
    "\n",
    "print(wow)"
   ]
  },
  {
   "cell_type": "code",
   "execution_count": 20,
   "metadata": {},
   "outputs": [
    {
     "name": "stdout",
     "output_type": "stream",
     "text": [
      "local1: 1\n",
      "local2: 2\n",
      "local3: 2\n"
     ]
    }
   ],
   "source": [
    "# Scope Quiz 2: nonlocal\n",
    "\n",
    "x = 0\n",
    "\n",
    "def local1():\n",
    "    x = 1\n",
    "    print(f\"local1: {x}\")\n",
    "    def local2():\n",
    "        x = 2\n",
    "        print(f\"local2: {x}\")\n",
    "        def local3():\n",
    "            nonlocal x\n",
    "            print(f\"local3: {x}\")\n",
    "        local3()\n",
    "    local2()\n",
    "\n",
    "quiz = local1()\n"
   ]
  },
  {
   "cell_type": "markdown",
   "metadata": {},
   "source": [
    "**Classes and Objects**  \n",
    "**- attributes, properties, methods**  \n",
    "**- inheritance, overriding**\n",
    "\n",
    "To represent something complex which we can imagine,  \n",
    "we can use objects(instances) and classes(blueprints of objects)  \n",
    "\n",
    "The core idea is that we can represent anything,  \n",
    "including real-world things, by analyzing it into numbers and behaviors  "
   ]
  },
  {
   "cell_type": "code",
   "execution_count": 12,
   "metadata": {},
   "outputs": [
    {
     "name": "stdout",
     "output_type": "stream",
     "text": [
      "A new Book object! We have 1 book(s)\n",
      "A new Book object! We have 2 book(s)\n",
      "Book1, Kim, 2022, read 0 time(s)\n",
      "Reading Book1, \"Once upon a time ...\"\n",
      "Book1, Kim, 2022, read 1 time(s)\n",
      "Reading Book2, \"On a typical server, ...\"\n",
      "Reading Book2, \"On a typical server, ...\"\n",
      "Reading Book2, \"On a typical server, ...\"\n",
      "Reading Book2, \"On a typical server, ...\"\n",
      "Reading Book2, \"On a typical server, ...\"\n",
      "Book2, Unknown, 2022, read 5 time(s)\n",
      "\"Book2\" is worth reading!\n",
      "The number of the books we have: 2\n",
      "The Book object \"Book1\" has been gone\n",
      "The number of the books remained : 1\n",
      "The Book object \"Book2\" has been gone\n",
      "The number of the books remained : 0\n"
     ]
    }
   ],
   "source": [
    "class Book: # Capital letter for the first charcter, PascalCase\n",
    "    books_type = \"paper\" # It's a class attribute\n",
    "    books_count = 0\n",
    "\n",
    "    def __init__(self, title, author, year, contents):\n",
    "        self.title = title\n",
    "        self.author = author\n",
    "        self.year = year\n",
    "        self.contents = contents\n",
    "        self.reads_count = 0\n",
    "        self.worth_reading = False\n",
    "        Book.books_count += 1\n",
    "        class_name = self.__class__.__name__\n",
    "        print(f\"A new {class_name} object! We have {Book.books_count} book(s)\")\n",
    "\n",
    "    def __str__(self):\n",
    "        return f\"{self.title}, {self.author}, {self.year}\"\n",
    "    \n",
    "    def read(self):\n",
    "        self.reads_count += 1\n",
    "        if self.reads_count > 3:\n",
    "            self.worth_reading = True\n",
    "        print(f\"Reading {self.title}, \\\"{self.contents}\\\"\")\n",
    "\n",
    "    def about(self):\n",
    "        about = self.title + \", \" + self.author + \", \" + str(self.year) \\\n",
    "            + \", \" + f\"read {self.reads_count} time(s)\"\n",
    "        print(about)\n",
    "        return about\n",
    "\n",
    "    def is_worth_reading(self):\n",
    "        if self.worth_reading:\n",
    "            print(f\"\\\"{self.title}\\\" is worth reading!\")\n",
    "        return self.worth_reading\n",
    "\n",
    "    def is_heavy(self):\n",
    "        pass\n",
    "\n",
    "    def __del__(self):\n",
    "        class_name = self.__class__.__name__\n",
    "        bye = f\"The {class_name} object \\\"{self.title}\\\" has been gone\"\n",
    "        Book.books_count -= 1\n",
    "        remains = f\"The number of the books remained : {Book.books_count}\"\n",
    "        print(bye)\n",
    "        print(remains)\n",
    "\n",
    "book1 = Book(\"Book1\", \"Kim\", 2022, \"Once upon a time ...\")\n",
    "book2 = Book(\"Book2\", \"Unknown\", 2022, \"On a typical server, ...\")\n",
    "\n",
    "book1.about()\n",
    "book1.read()\n",
    "book1.about()\n",
    "for r in range(5): book2.read()\n",
    "book2.about()\n",
    "book2_worthy = book2.is_worth_reading()\n",
    "\n",
    "print(f\"The number of the books we have: {Book.books_count}\")\n",
    "\n",
    "del book1\n",
    "del book2"
   ]
  },
  {
   "cell_type": "code",
   "execution_count": 13,
   "metadata": {},
   "outputs": [
    {
     "name": "stdout",
     "output_type": "stream",
     "text": [
      "A new LibraryBook object! We have 1 book(s)\n",
      "A new LibraryBook object! We have 2 book(s)\n",
      "A new LibraryBook object! We have 3 book(s)\n",
      "LB1, Unknown, 2022, read 0 time(s)\n",
      "LB2, Unknown, 2022, read 0 time(s)\n",
      "LB3, Unknown, 2022, read 0 time(s)\n",
      "The paper book LB3 is heavy\n",
      "The library book ID: 0002 Title: LB2\n",
      "Reading LB2, \"...\"\n",
      "Reading LB2, \"...\"\n",
      "Reading LB2, \"...\"\n",
      "Reading LB2, \"...\"\n",
      "Reading LB2, \"...\"\n",
      "LB2, Unknown, 2022, read 5 time(s)\n",
      "The library book \"LB2\" is worth reading!\n",
      "We have 3 book(s)\n",
      "The LibraryBook object \"LB1\" has been gone\n",
      "The number of the books remained : 2\n",
      "The LibraryBook object \"LB2\" has been gone\n",
      "The number of the books remained : 1\n",
      "The LibraryBook object \"LB3\" has been gone\n",
      "The number of the books remained : 0\n"
     ]
    }
   ],
   "source": [
    "# Before running this cell,\n",
    "# please run the cell above, which contains a class Book\n",
    "\n",
    "class LibraryBook(Book):\n",
    "    def __init__(self, title, author, year, contents, id: str, pages: int):\n",
    "        super().__init__(title, author, year, contents)\n",
    "        self.id = id\n",
    "        self.pages = pages\n",
    "\n",
    "    def __str__(self):\n",
    "        return f\"The library book ID: {self.id} Title: {self.title}\"\n",
    "\n",
    "    def is_heavy(self):\n",
    "        if self.pages > 500:\n",
    "            print(f\"The {Book.books_type} book {self.title} is heavy\")\n",
    "            return True\n",
    "        else:\n",
    "            return False\n",
    "    \n",
    "    def is_worth_reading(self):\n",
    "        if self.worth_reading:\n",
    "            print(f\"The library book \\\"{self.title}\\\" is worth reading!\")\n",
    "        return self.worth_reading\n",
    "\n",
    "    def we_have():\n",
    "        print(f\"We have {Book.books_count} book(s)\")\n",
    "        return Book.books_count\n",
    "\n",
    "lib_book1 = LibraryBook(\"LB1\", \"Unknown\", 2022, \"...\", \"0001\", 300)\n",
    "lib_book2 = LibraryBook(\"LB2\", \"Unknown\", 2022, \"...\", \"0002\", 500)\n",
    "lib_book3 = LibraryBook(\"LB3\", \"Unknown\", 2022, \"...\", \"0003\", 600)\n",
    "\n",
    "about1 = lib_book1.about()\n",
    "about2 = lib_book2.about()\n",
    "about3 = lib_book3.about()\n",
    "\n",
    "lib_book3_heavy = lib_book3.is_heavy()\n",
    "\n",
    "print(lib_book2)\n",
    "for r in range(5): lib_book2.read()\n",
    "about2 = lib_book2.about()\n",
    "lib_book2_worthy = lib_book2.is_worth_reading()\n",
    "\n",
    "LibraryBook.we_have()\n",
    "\n",
    "del lib_book1\n",
    "del lib_book2\n",
    "del lib_book3"
   ]
  },
  {
   "cell_type": "code",
   "execution_count": 14,
   "metadata": {},
   "outputs": [
    {
     "name": "stdout",
     "output_type": "stream",
     "text": [
      "A new Book object! We have 1 book(s)\n",
      "True\n",
      "True\n",
      "The Book object \"Book1\" has been gone\n",
      "The number of the books remained : 0\n"
     ]
    }
   ],
   "source": [
    "# The is operator compares addresses, \n",
    "# and check if the variables indicate the same object\n",
    "\n",
    "book1 = book2 = Book(\"Book1\", \"Kim\", 2022, \"Once upon a time ...\")\n",
    "\n",
    "print(book1 is book2) # True\n",
    "\n",
    "# cf. The == operator can be used to compare values of objects \n",
    "# but __eq__ should be defined first\n",
    "# The == operator returns True if the variables indicate the same object \n",
    "# even that __eq__ is not defined\n",
    "\n",
    "print(book1 == book2) # True\n",
    "\n",
    "del book1\n",
    "del book2"
   ]
  },
  {
   "cell_type": "markdown",
   "metadata": {},
   "source": [
    "**String Methods**  \n",
    "**- startswith, endswith, isalpha, isnumeric, isalnum, isspaace, isidentifier**  \n",
    "**- count, find, rfind**  \n",
    "**- join, split, rsplit, splitlines, partition, strip, lstrip, rstrip, replace**  \n",
    "**- maketrans, translate, ljust, rjust, zfill, encode**  \n",
    "**- ...**  "
   ]
  },
  {
   "cell_type": "code",
   "execution_count": 125,
   "metadata": {},
   "outputs": [
    {
     "name": "stdout",
     "output_type": "stream",
     "text": [
      "True\n",
      "True\n",
      "\n",
      "True\n",
      "False\n",
      "True\n"
     ]
    }
   ],
   "source": [
    "alphabet = 'ABCDEFGHIJKLMNOPQRSTUVWXYZabcdefghijklmnopqrstuvwxyz'\n",
    "\n",
    "print(alphabet.startswith('ABC'))\n",
    "print(alphabet.endswith('xyz'))\n",
    "print()\n",
    "\n",
    "print(alphabet.isalpha())\n",
    "print(alphabet.isnumeric()) # [0-9]\n",
    "print(alphabet.isalnum())"
   ]
  },
  {
   "cell_type": "code",
   "execution_count": 124,
   "metadata": {},
   "outputs": [
    {
     "name": "stdout",
     "output_type": "stream",
     "text": [
      "True\n",
      "False\n"
     ]
    }
   ],
   "source": [
    "print(\"    \".isspace())\n",
    "print(\"@abc\".isidentifier())"
   ]
  },
  {
   "cell_type": "code",
   "execution_count": 123,
   "metadata": {},
   "outputs": [
    {
     "name": "stdout",
     "output_type": "stream",
     "text": [
      "1\n",
      "0\n",
      "\n",
      "51\n",
      "-1\n",
      "-1\n"
     ]
    }
   ],
   "source": [
    "alphabet = 'ABCDEFGHIJKLMNOPQRSTUVWXYZabcdefghijklmnopqrstuvwxyz'\n",
    "\n",
    "print(alphabet.count('abc'))\n",
    "print(alphabet.count('abc', 0, 25))\n",
    "print()\n",
    "\n",
    "print(alphabet.find('z'))\n",
    "print(alphabet.find('z', 0, 25))\n",
    "print(alphabet.rfind('0'))"
   ]
  },
  {
   "cell_type": "code",
   "execution_count": 130,
   "metadata": {},
   "outputs": [
    {
     "name": "stdout",
     "output_type": "stream",
     "text": [
      "20220915-01-10050\n",
      "['20220915', '01-10050']\n",
      "['20220915-01', '10050']\n",
      "  ABC  abc    123    \n",
      "['ABC', 'abc', '123']\n",
      "ABC\n",
      "abc\n",
      "123\n",
      "['ABC', 'abc', '123']\n"
     ]
    }
   ],
   "source": [
    "nums = ['20220915', '01', '10050']\n",
    "string = \"-\".join(nums)\n",
    "print(string)\n",
    "\n",
    "strings = string.split(\"-\", 1)\n",
    "print(strings)\n",
    "\n",
    "strings = string.rsplit(\"-\", 1)\n",
    "print(strings)\n",
    "\n",
    "string = \"  ABC  abc    123    \"\n",
    "strings = string.split()\n",
    "print(string)\n",
    "print(strings)\n",
    "\n",
    "string = \"ABC\\nabc\\n123\"\n",
    "lines = string.splitlines()\n",
    "print(string)\n",
    "print(lines)"
   ]
  },
  {
   "cell_type": "code",
   "execution_count": 131,
   "metadata": {},
   "outputs": [
    {
     "name": "stdout",
     "output_type": "stream",
     "text": [
      "I am going home\n",
      "('I am go', 'i', 'ng home')\n",
      "('I am ', 'going', ' home')\n"
     ]
    }
   ],
   "source": [
    "string = \"I am going home\"\n",
    "print(string)\n",
    "\n",
    "three_parts = string.partition(\"i\")\n",
    "print(three_parts)\n",
    "\n",
    "three_parts = string.partition(\"going\")\n",
    "print(three_parts)"
   ]
  },
  {
   "cell_type": "code",
   "execution_count": 89,
   "metadata": {},
   "outputs": [
    {
     "name": "stdout",
     "output_type": "stream",
     "text": [
      "messy string: \", .  .:a  b  c  ;  \"\n",
      "clean string: \"a  b  c\"\n",
      "\n",
      "\"    aaa bbb ccc    \"\n",
      "\"aaa bbb ccc\"\n",
      "\"aaa bbb ccc    \"\n",
      "\"    aaa bbb ccc\"\n"
     ]
    }
   ],
   "source": [
    "messy_string = \", .  .:a  b  c  ;  \"\n",
    "clean_string = messy_string.strip(\" ,.:;\")\n",
    "\n",
    "print(f\"messy string: \\\"{messy_string}\\\"\")\n",
    "print(f\"clean string: \\\"{clean_string}\\\"\")\n",
    "\n",
    "print()\n",
    "\n",
    "string = \"    aaa bbb ccc    \"\n",
    "string_strip = string.strip()\n",
    "string_lstrip = string.lstrip()\n",
    "string_rstrip = string.rstrip()\n",
    "\n",
    "string_check0 = \"\\\"\" + string + \"\\\"\"\n",
    "string_check1 = \"\\\"\" + string_strip + \"\\\"\"\n",
    "string_check2 = \"\\\"\" + string_lstrip + \"\\\"\"\n",
    "string_check3 = \"\\\"\" + string_rstrip + \"\\\"\"\n",
    "\n",
    "print(string_check0)\n",
    "print(string_check1)\n",
    "print(string_check2)\n",
    "print(string_check3)"
   ]
  },
  {
   "cell_type": "code",
   "execution_count": 97,
   "metadata": {},
   "outputs": [
    {
     "name": "stdout",
     "output_type": "stream",
     "text": [
      "aaabbbccc\n",
      "3#\n",
      "3##\n"
     ]
    }
   ],
   "source": [
    "string = \"aaa bbb ccc\"\n",
    "string = string.replace(\" \",\"\")\n",
    "\n",
    "print(string)\n",
    "\n",
    "string = \"###\"\n",
    "string = string.replace(\"##\", \"3\")\n",
    "\n",
    "print(string)\n",
    "\n",
    "string = \"###\"\n",
    "string = string.replace(\"#\", \"3\", 1)\n",
    "\n",
    "print(string)"
   ]
  },
  {
   "cell_type": "code",
   "execution_count": 109,
   "metadata": {},
   "outputs": [
    {
     "name": "stdout",
     "output_type": "stream",
     "text": [
      "abcd\n",
      "<class 'dict'>\n",
      "ABC\n",
      "<class 'dict'>\n",
      "ABC\n"
     ]
    }
   ],
   "source": [
    "abc = \"abcd\"\n",
    "\n",
    "print(abc)\n",
    "\n",
    "abc_table = abc.maketrans(\"abc\",\"ABC\",\"d\")\n",
    "abc_trans = abc.translate(abc_table)\n",
    "\n",
    "print(type(abc_table))\n",
    "print(abc_trans)\n",
    "\n",
    "abc_table = abc.maketrans({\"a\":\"A\", \"b\":\"B\", \"c\":\"C\", \"d\":\"\"})\n",
    "abc_trans = abc.translate(abc_table)\n",
    "\n",
    "print(type(abc_table))\n",
    "print(abc_trans)"
   ]
  },
  {
   "cell_type": "code",
   "execution_count": 114,
   "metadata": {},
   "outputs": [
    {
     "name": "stdout",
     "output_type": "stream",
     "text": [
      "abc###\n",
      "###abc\n"
     ]
    }
   ],
   "source": [
    "abc = \"abc\"\n",
    "\n",
    "abc_ljust = abc.ljust(6, '#') # ljust, left justified, fill the right\n",
    "abc_rjust = abc.rjust(6, '#') # rjust, right justified, fill the left\n",
    "\n",
    "print(abc_ljust)\n",
    "print(abc_rjust)\n"
   ]
  },
  {
   "cell_type": "code",
   "execution_count": 120,
   "metadata": {},
   "outputs": [
    {
     "name": "stdout",
     "output_type": "stream",
     "text": [
      "+000-a- bbb ccc\n"
     ]
    }
   ],
   "source": [
    "abc = \"+-a- bbb ccc\"\n",
    "\n",
    "abc_zfill = abc.zfill(15)\n",
    "\n",
    "print(abc_zfill)"
   ]
  },
  {
   "cell_type": "code",
   "execution_count": 53,
   "metadata": {},
   "outputs": [
    {
     "name": "stdout",
     "output_type": "stream",
     "text": [
      "Help on method_descriptor:\n",
      "\n",
      "encode(self, /, encoding='utf-8', errors='strict')\n",
      "    Encode the string using the codec registered for encoding.\n",
      "    \n",
      "    encoding\n",
      "      The encoding in which to encode the string.\n",
      "    errors\n",
      "      The error handling scheme to use for encoding errors.\n",
      "      The default is 'strict' meaning that encoding errors raise a\n",
      "      UnicodeEncodeError.  Other possible values are 'ignore', 'replace' and\n",
      "      'xmlcharrefreplace' as well as any other name registered with\n",
      "      codecs.register_error that can handle UnicodeEncodeErrors.\n",
      "\n"
     ]
    }
   ],
   "source": [
    "help(str.encode)"
   ]
  },
  {
   "cell_type": "markdown",
   "metadata": {},
   "source": [
    "**Lists**  \n",
    "**- len, del, indexing, slicing, size(in bytes), +, \\***  \n",
    "**- list methods**  \n",
    "**- (append, clear, copy, count, extend, index, insert, pop, remove, reverse, sort)**  \n",
    "**- list comprehension, nested list comprehension**  \n",
    "**- nested list, shallow copy, deep copy**  \n",
    "**- useful functions(enumerate, zip, map, filter, max, min, ...) for iterables**  "
   ]
  },
  {
   "cell_type": "code",
   "execution_count": 109,
   "metadata": {},
   "outputs": [
    {
     "name": "stdout",
     "output_type": "stream",
     "text": [
      "[0, 1, 2, 3, 4, 5, 6, 7, 8, 9, 10, 11, 12]\n",
      "13\n",
      "[0, 1, 2, 3, 4, 5, 6, 7, 8, 9, 11, 12]\n",
      "12\n",
      "[0, 1, 2, 3, 4, 5, 6, 7, 8, 9]\n",
      "10\n"
     ]
    }
   ],
   "source": [
    "\n",
    "list1 = [0, 1, 2, 3, 4, 5, 6, 7, 8, 9, 10, 11, 12,]\n",
    "\n",
    "print(list1)\n",
    "print(len(list1))\n",
    "\n",
    "del list1[10]\n",
    "print(list1)\n",
    "print(len(list1))\n",
    "\n",
    "del list1[10:]\n",
    "print(list1)\n",
    "print(len(list1))\n"
   ]
  },
  {
   "cell_type": "code",
   "execution_count": 72,
   "metadata": {},
   "outputs": [
    {
     "name": "stdout",
     "output_type": "stream",
     "text": [
      "[0, 1, 20, 3, 4, 5, 6, 70, 80, 90, 10, 11, 12]\n",
      "[0, 1, 20, 3, 4, 5, 6, 7, 8, 9, 10, 11, 12]\n",
      "[0, 1, 20, 3, 4, 5, 6, 7, 8, 9]\n",
      "[0, 1, 2, 3, 4, 5, 6, 7, 8, 9]\n"
     ]
    }
   ],
   "source": [
    "list1 = [0, 1, 20, 3, 4, 5, 6, 70, 80, 90, 10, 11, 12,]\n",
    "\n",
    "print(list1)\n",
    "\n",
    "# list1[7:10] == [70,80,90]\n",
    "list1[7:10] = [7,8,9]\n",
    "print(list1)\n",
    "\n",
    "list1[10:] = []\n",
    "print(list1)\n",
    "\n",
    "list1[2] = 2\n",
    "print(list1)"
   ]
  },
  {
   "cell_type": "code",
   "execution_count": 110,
   "metadata": {},
   "outputs": [
    {
     "name": "stdout",
     "output_type": "stream",
     "text": [
      "[0]\n",
      "64\n",
      "[0, 0, 0, 0, 0, 0, 0, 0, 0, 0]\n",
      "136\n"
     ]
    }
   ],
   "source": [
    "import sys\n",
    "\n",
    "list1 = [0]\n",
    "print(list1)\n",
    "print(sys.getsizeof(list1)) # the size in bytes\n",
    "\n",
    "list1 = [0] * 10\n",
    "print(list1)\n",
    "print(sys.getsizeof(list1))"
   ]
  },
  {
   "cell_type": "code",
   "execution_count": 101,
   "metadata": {},
   "outputs": [
    {
     "name": "stdout",
     "output_type": "stream",
     "text": [
      "[0, 1, 2, 3, 4, 5, 6, 7, 8, 9]\n",
      "[0, 2, 4, 6, 8]\n",
      "0\n",
      "9\n",
      "[]\n",
      "[]\n",
      "[9, 8, 7, 6, 5, 4, 3, 2, 1, 0]\n",
      "[9, 7, 5, 3, 1]\n",
      "[9, 8, 7, 6, 5, 4, 3, 2, 1, 0]\n",
      "[9, 8, 7, 6, 5, 4, 3, 2, 1]\n",
      "[8, 7, 6]\n"
     ]
    }
   ],
   "source": [
    "list1 = [0, 1, 2, 3, 4, 5, 6, 7, 8, 9]\n",
    "\n",
    "print(list1)\n",
    "\n",
    "print(list1[0:10:2])\n",
    "print(list1[-10])\n",
    "print(list1[-1])\n",
    "\n",
    "print(list1[10:5]) # []\n",
    "print(list1[0:10:-1]) # []\n",
    "\n",
    "print(list1[-1::-1]) # [9, 8, 7, 6, 5, 4, 3, 2, 1, 0]\n",
    "print(list1[-1::-2]) # [9, 7, 5, 3, 1]\n",
    "print(list1[-1:-11:-1]) # [9, 8, 7, 6, 5, 4, 3, 2, 1, 0]\n",
    "print(list1[-1:-10:-1]) # [9, 8, 7, 6, 5, 4, 3, 2, 1]\n",
    "print(list1[8:5:-1])"
   ]
  },
  {
   "cell_type": "code",
   "execution_count": 103,
   "metadata": {},
   "outputs": [
    {
     "name": "stdout",
     "output_type": "stream",
     "text": [
      "[0, 1, 2, 3, 4, 5, 6, 7, 8, 9]\n",
      "[0, 1, 2, 3, 4, 5, 6, 7, 8, 9, 0, 1, 2, 3, 4, 5, 6, 7, 8, 9]\n"
     ]
    }
   ],
   "source": [
    "list1 = [0, 1, 2, 3]\n",
    "list2 = [4, 5, 6,]\n",
    "list3 = [7, 8, 9]\n",
    "\n",
    "list4 = list1 + list2 + list3\n",
    "print(list4)\n",
    "\n",
    "list5 = list4 * 2\n",
    "print(list5)"
   ]
  },
  {
   "cell_type": "code",
   "execution_count": 152,
   "metadata": {},
   "outputs": [
    {
     "name": "stdout",
     "output_type": "stream",
     "text": [
      "['append', 'clear', 'copy', 'count', 'extend']\n",
      "['insert', 'pop', 'remove', 'reverse', 'sort']\n"
     ]
    }
   ],
   "source": [
    "list_methods = []\n",
    "\n",
    "for m in dir(list):\n",
    "    if not m.startswith(\"__\"):\n",
    "        list_methods.append(m)\n",
    "\n",
    "print(list_methods[:5])\n",
    "print(list_methods[6:])"
   ]
  },
  {
   "cell_type": "code",
   "execution_count": 134,
   "metadata": {},
   "outputs": [
    {
     "name": "stdout",
     "output_type": "stream",
     "text": [
      "[0, 1, 2, 3, 4]\n",
      "[0, 1, 2, 3, 4, 5]\n",
      "[0, 1, 2, 3, 4, 5, [6, 7, 8, 9]]\n",
      "[0, 1, 2, 3, 4, 5, 6, 7, 8, 9]\n"
     ]
    }
   ],
   "source": [
    "list1 = [0, 1, 2, 3, 4,]\n",
    "\n",
    "print(list1)\n",
    "\n",
    "list1.append(5)\n",
    "print(list1)\n",
    "\n",
    "# Be careful\n",
    "list1.append([6,7,8,9]) # [0,1,2,3,4,5,[6,7,8,9]]\n",
    "print(list1)\n",
    "\n",
    "del list1[6] # [0,1,2,3,4,5]\n",
    "list1.extend([6,7,8,9]) # [0,1,2,3,4,5,6,7,8,9]\n",
    "print(list1)\n"
   ]
  },
  {
   "cell_type": "code",
   "execution_count": 123,
   "metadata": {},
   "outputs": [
    {
     "name": "stdout",
     "output_type": "stream",
     "text": [
      "[0, 1, 2, 3, 4, 5]\n",
      "[]\n",
      "[0, 1, 2, 3, 4, 5]\n",
      "[0, 1, 2, 3, 4, 5]\n"
     ]
    }
   ],
   "source": [
    "list1 = [0, 1, 2, 3, 4, 5]\n",
    "\n",
    "print(list1)\n",
    "\n",
    "list2 = list1.copy() # shallow copy\n",
    "list3 = list1[:] # shallow copy\n",
    "\n",
    "list1.clear()\n",
    "print(list1)\n",
    "\n",
    "print(list2)\n",
    "print(list3)"
   ]
  },
  {
   "cell_type": "code",
   "execution_count": 156,
   "metadata": {},
   "outputs": [
    {
     "name": "stdout",
     "output_type": "stream",
     "text": [
      "3\n",
      "2\n"
     ]
    }
   ],
   "source": [
    "list1 = [0, 0, 0, 'C', 'C', \"CCCC\"]\n",
    "\n",
    "# Let's count the number of occurenc(es) of a value\n",
    "counting_zero = list1.count(0)\n",
    "counting_c = list1.count('C')\n",
    "\n",
    "print(counting_zero)\n",
    "print(counting_c)"
   ]
  },
  {
   "cell_type": "code",
   "execution_count": 170,
   "metadata": {},
   "outputs": [
    {
     "name": "stdout",
     "output_type": "stream",
     "text": [
      "[3, 2, 0, 3, 4, 5, 6, 7, 8, 9, 10]\n",
      "10\n",
      "[3, 2, 0, 3, 4, 5, 6, 7, 8, 9]\n",
      "[3, 2, 0, 1, 3, 4, 5, 6, 7, 8, 9]\n",
      "[3, 2, 0, 1, 2, 3, 4, 5, 6, 7, 8, 9]\n",
      "2\n",
      "[3, 0, 1, 2, 3, 4, 5, 6, 7, 8, 9]\n",
      "3\n",
      "[0, 1, 2, 3, 4, 5, 6, 7, 8, 9]\n"
     ]
    }
   ],
   "source": [
    "list1 = [3, 2, 0, 3, 4, 5, 6, 7, 8, 9, 10]\n",
    "\n",
    "print(list1)\n",
    "\n",
    "pop = list1.pop()\n",
    "print(pop)\n",
    "print(list1)\n",
    "\n",
    "list1.insert(3, 1) # list1.insert(index, value)\n",
    "print(list1)\n",
    "\n",
    "list1.insert(4, 2)\n",
    "print(list1)\n",
    "\n",
    "pop = list1.pop(1) # list1.pop(index)\n",
    "print(pop)\n",
    "print(list1)\n",
    "\n",
    "pop = list1.pop(0)\n",
    "print(pop)\n",
    "print(list1)"
   ]
  },
  {
   "cell_type": "code",
   "execution_count": 178,
   "metadata": {},
   "outputs": [
    {
     "name": "stdout",
     "output_type": "stream",
     "text": [
      "[0, 1, 2, 2, 3, 4, 5, 6, 7, 8, 9]\n",
      "[0, 1, 2, 3, 4, 5, 6, 7, 8, 9]\n"
     ]
    }
   ],
   "source": [
    "list1 = [0, 1, 2, 2, 3, 4, 5, 6, 7, 8, 9]\n",
    "\n",
    "print(list1)\n",
    "\n",
    "list1.remove(2)\n",
    "print(list1)\n",
    "\n",
    "# If the argument is not in the list, it throws an exception\n",
    "# list1.remove(10)"
   ]
  },
  {
   "cell_type": "code",
   "execution_count": 181,
   "metadata": {},
   "outputs": [
    {
     "name": "stdout",
     "output_type": "stream",
     "text": [
      "[1, 0, 3, 2, 5, 4, 7, 6, 9, 8]\n",
      "[0, 1, 2, 3, 4, 5, 6, 7, 8, 9]\n",
      "[9, 8, 7, 6, 5, 4, 3, 2, 1, 0]\n"
     ]
    }
   ],
   "source": [
    "list1 = [1, 0, 3, 2, 5, 4, 7, 6, 9, 8]\n",
    "\n",
    "print(list1)\n",
    "\n",
    "list1.sort()\n",
    "print(list1)\n",
    "\n",
    "list1.reverse()\n",
    "print(list1)"
   ]
  },
  {
   "cell_type": "code",
   "execution_count": 235,
   "metadata": {},
   "outputs": [
    {
     "name": "stdout",
     "output_type": "stream",
     "text": [
      "[-2, -1, 0, 1, 2]\n",
      "[0, -1, 1, -2, 2]\n",
      "[2, -2, 1, -1, 0]\n",
      "[-2, 2, -1, 1, 0]\n"
     ]
    }
   ],
   "source": [
    "list1 = [-2, -1, 0, 1, 2]\n",
    "\n",
    "print(list1)\n",
    "\n",
    "list1.sort(key=lambda x:x**2)\n",
    "print(list1)\n",
    "\n",
    "# We can get the exact reverse of list1 this way\n",
    "list2 = list1[:]\n",
    "list2.reverse()\n",
    "print(list2)\n",
    "\n",
    "# Be careful, there can be an unexpected result like this way\n",
    "list1.sort(key=lambda x:x**2, reverse=True)\n",
    "print(list1)"
   ]
  },
  {
   "cell_type": "code",
   "execution_count": 184,
   "metadata": {},
   "outputs": [
    {
     "name": "stdout",
     "output_type": "stream",
     "text": [
      "[1, 9, 25, 49, 81]\n"
     ]
    }
   ],
   "source": [
    "list1 = [ n ** 2 for n in range(10) if n % 2 == 1 ]\n",
    "\n",
    "print(list1)"
   ]
  },
  {
   "cell_type": "code",
   "execution_count": 199,
   "metadata": {},
   "outputs": [
    {
     "name": "stdout",
     "output_type": "stream",
     "text": [
      "[[0], [1, 2, 3], [4], [5, 6], [7, 8, 9]]\n",
      "[5]\n",
      "[0, 1, 2, 3, 4, 5, 6, 7, 8, 9]\n"
     ]
    }
   ],
   "source": [
    "list1 = [[0], [1, 2, 3], [4], [5, 6], [7, 8, 9]]\n",
    "\n",
    "print(list1)\n",
    "\n",
    "# Nested list comprehensions are useful\n",
    "list2 = [ n for ls in list1 if len(ls) == 2 for n in ls if n % 2 == 1]\n",
    "print(list2)\n",
    "\n",
    "list3 = [ n for l in list1 for n in l]\n",
    "print(list3)"
   ]
  },
  {
   "cell_type": "code",
   "execution_count": 226,
   "metadata": {},
   "outputs": [
    {
     "name": "stdout",
     "output_type": "stream",
     "text": [
      "[[0, 1, 2], [3, 4, 5], [6, 7, 8]]\n",
      "False\n",
      "False\n",
      "False\n",
      "\n",
      "[[6, 7, 8], [3, 4, 5], [0, 1, 2]]\n",
      "[[0, 1, 2], [3, 4, 5], [6, 7, 8]]\n",
      "[[0, 1, 2], [3, 4, 5], [6, 7, 8]]\n",
      "[[0, 1, 2], [3, 4, 5], [6, 7, 8]]\n",
      "\n",
      "[[6, 7, 8], [3, 4, 5], [0, 1000, 2]]\n",
      "[[0, 1000, 2], [3, 4, 5], [6, 7, 8]]\n",
      "[[0, 1000, 2], [3, 4, 5], [6, 7, 8]]\n",
      "[[0, 1, 2], [3, 4, 5], [6, 7, 8]]\n"
     ]
    }
   ],
   "source": [
    "import copy\n",
    "\n",
    "list1 = [[0,1,2],[3,4,5],[6,7,8]]\n",
    "\n",
    "print(list1)\n",
    "\n",
    "list2 = list1.copy() # shallow copy\n",
    "list3 = list1[:] # shallow copy\n",
    "\n",
    "list4 = copy.deepcopy(list1) # deep copy\n",
    "\n",
    "# They are all distinct objects\n",
    "print(list2 is list1)\n",
    "print(list3 is list1)\n",
    "print(list4 is list1)\n",
    "print()\n",
    "\n",
    "# The copied ones seem not to be affected by the change of the original list\n",
    "list1.reverse()\n",
    "print(list1)\n",
    "\n",
    "print(list2)\n",
    "print(list3)\n",
    "print(list4)\n",
    "print()\n",
    "\n",
    "# But! The shallow copy shares the nested list with the original list\n",
    "list1[2][1] = 1000\n",
    "print(list1)\n",
    "\n",
    "print(list2)\n",
    "print(list3)\n",
    "\n",
    "# While the deep copy made completely new list, not affect by the original list\n",
    "print(list4)\n"
   ]
  },
  {
   "cell_type": "code",
   "execution_count": 253,
   "metadata": {},
   "outputs": [
    {
     "name": "stdout",
     "output_type": "stream",
     "text": [
      "[-5, 0, 3, -4, -2, -1, 2, 5, -3, 4, 1]\n",
      "[5, 4, 3, 2, 1, 0, -1, -2, -3, -4, -5]\n",
      "[-5, 0, 3, -4, -2, -1, 2, 5, -3, 4, 1]\n",
      "\n",
      "[0, -1, 1, -2, 2, 3, -3, -4, 4, -5, 5]\n",
      "[5, -5, 4, -4, -3, 3, 2, -2, 1, -1, 0]\n",
      "[-5, 5, -4, 4, 3, -3, -2, 2, -1, 1, 0]\n",
      "[0, -1, 1, -2, 2, 3, -3, -4, 4, -5, 5]\n"
     ]
    }
   ],
   "source": [
    "list1 = [ -5, 0, 3, -4, -2, -1, 2, 5, -3, 4, 1 ]\n",
    "\n",
    "print(list1)\n",
    "\n",
    "# The sorted() function returns a new list\n",
    "list2 = sorted(list1, reverse=True)\n",
    "print(list2)\n",
    "\n",
    "print(list1)\n",
    "print()\n",
    "\n",
    "\n",
    "# Becareful, there can be this kind of unexpected result\n",
    "# while using the reverse option of the sorted() function\n",
    "# like when using the reverse option of the sort method\n",
    "list3 = list1[:]\n",
    "list3.sort(key=lambda x:x**2)\n",
    "print(list3)\n",
    "\n",
    "list3.reverse() # The reverse method can be an solution\n",
    "print(list3)\n",
    "\n",
    "list4 = sorted(list1, key=lambda x:x**2, reverse=True)\n",
    "print(list4)\n",
    "\n",
    "list5 = sorted(list1, key=lambda x:x**2)\n",
    "print(list5)"
   ]
  },
  {
   "cell_type": "code",
   "execution_count": 262,
   "metadata": {},
   "outputs": [
    {
     "name": "stdout",
     "output_type": "stream",
     "text": [
      "<class 'enumerate'>\n",
      "(0, 'Pizza') <class 'tuple'>\n",
      "(1, 'Hamburger') <class 'tuple'>\n",
      "(2, 'Kimchi') <class 'tuple'>\n",
      "1 Pizza\n",
      "2 Hamburger\n",
      "3 Kimchi\n"
     ]
    }
   ],
   "source": [
    "# The enumerate() function\n",
    "\n",
    "list1 = [\"Pizza\", \"Hamburger\", \"Kimchi\"]\n",
    "\n",
    "print(type(enumerate(list1)))\n",
    "\n",
    "for enum_food in enumerate(list1):\n",
    "    print(enum_food, type(enum_food))\n",
    "\n",
    "for index, food in enumerate(list1):\n",
    "    print(index + 1, food)"
   ]
  },
  {
   "cell_type": "code",
   "execution_count": 260,
   "metadata": {},
   "outputs": [
    {
     "name": "stdout",
     "output_type": "stream",
     "text": [
      "<class 'zip'>\n",
      "(1, 2, 3) <class 'tuple'>\n",
      "(4, 5, 6) <class 'tuple'>\n",
      "(7, 8, 9) <class 'tuple'>\n"
     ]
    }
   ],
   "source": [
    "# The zip() function\n",
    "\n",
    "list1 = [1, 4, 7]\n",
    "list2 = [2, 5, 8]\n",
    "list3 = [3, 6, 9]\n",
    "\n",
    "zip_list = zip(list1, list2, list3)\n",
    "print(type(zip_list))\n",
    "\n",
    "for l in zip_list:\n",
    "    print(l, type(l))"
   ]
  },
  {
   "cell_type": "code",
   "execution_count": 329,
   "metadata": {},
   "outputs": [
    {
     "name": "stdout",
     "output_type": "stream",
     "text": [
      "['A', 'B', 'C']\n",
      "[0, 1, 2]\n"
     ]
    }
   ],
   "source": [
    "# The map() function\n",
    "\n",
    "list1 = ['a', 'b', 'c']\n",
    "list2 = []\n",
    "\n",
    "for c in map(str.upper, list1):\n",
    "    list2.append(c)\n",
    "\n",
    "print(list2)\n",
    "\n",
    "\n",
    "list1 = [1,2,3]\n",
    "list2 = []\n",
    "\n",
    "for n in map(int.__add__, list1, [ -1 for i in range(len(list1))]):\n",
    "    list2.append(n)\n",
    "\n",
    "print(list2)"
   ]
  },
  {
   "cell_type": "code",
   "execution_count": 315,
   "metadata": {},
   "outputs": [
    {
     "name": "stdout",
     "output_type": "stream",
     "text": [
      "The two people 1 : To be couple!\n",
      "The two people 2 : Not sure!\n",
      "The two people 3 : Not sure!\n",
      "[] : <class 'zip'>\n"
     ]
    }
   ],
   "source": [
    "# The map() function and the zip() function\n",
    "\n",
    "def to_be_couple(emotion1, expressed, emotion2):\n",
    "    if (emotion1 == 'like') and expressed:\n",
    "        if emotion2 == 'like':\n",
    "            return True\n",
    "        else:\n",
    "            return False\n",
    "    else:\n",
    "        return False\n",
    "\n",
    "signals = [['like',True,'like'], ['like',False,'like'], ['like',True,'not yet']]\n",
    "\n",
    "zip_signals = zip(*[ z for z in signals ]) # Unpack, and zip!\n",
    "\n",
    "for i, check in enumerate(map(to_be_couple, *[ l for l in zip_signals])):\n",
    "    if check:\n",
    "        print(\"The two people\", i+1, \": To be couple!\")\n",
    "    else:\n",
    "        print(\"The two people\", i+1, \": Not sure!\")\n",
    "\n",
    "# Be careful, we cannot use the used zip object again\n",
    "print([z for z in zip_signals], \":\", type(zip_signals))\n"
   ]
  },
  {
   "cell_type": "code",
   "execution_count": 325,
   "metadata": {},
   "outputs": [
    {
     "name": "stdout",
     "output_type": "stream",
     "text": [
      "['Pizza', 'Kimchi']\n"
     ]
    }
   ],
   "source": [
    "# The filter() function\n",
    "# filter(function_name, iterable)\n",
    "# If a value from the iterable safisfy the filter function to return True\n",
    "# the filter function pass the value out\n",
    "\n",
    "list1 = [0, 1, 2, \"Pizza\", 3, 4, 5, 6, \"Kimchi\", 7,8,9]\n",
    "\n",
    "list2 = []\n",
    "\n",
    "for i in filter(str.isalpha, [str(j) for j in list1]):\n",
    "    list2.append(i)\n",
    "\n",
    "print(list2)"
   ]
  },
  {
   "cell_type": "code",
   "execution_count": 324,
   "metadata": {},
   "outputs": [
    {
     "name": "stdout",
     "output_type": "stream",
     "text": [
      "800\n",
      "-6\n"
     ]
    }
   ],
   "source": [
    "# The max(), min() functions\n",
    "\n",
    "list1 = [-6, 1, 2, 30, 4, 5, 60, 7, 800, 9, 800]\n",
    "\n",
    "print(max(list1))\n",
    "print(min(list1))"
   ]
  },
  {
   "cell_type": "code",
   "execution_count": null,
   "metadata": {},
   "outputs": [],
   "source": [
    "# 23456789012345678901234567890123456789012345678901234567890123456789012345678\n",
    "# ______________79_characters_line_including_#_and_the_space___________________"
   ]
  }
 ],
 "metadata": {
  "kernelspec": {
   "display_name": "Python 3.10.7 ('.venv': venv)",
   "language": "python",
   "name": "python3"
  },
  "language_info": {
   "codemirror_mode": {
    "name": "ipython",
    "version": 3
   },
   "file_extension": ".py",
   "mimetype": "text/x-python",
   "name": "python",
   "nbconvert_exporter": "python",
   "pygments_lexer": "ipython3",
   "version": "3.10.7"
  },
  "orig_nbformat": 4,
  "vscode": {
   "interpreter": {
    "hash": "f28831a8717608005cbce82d0d45534c80ed3e287312e9cb73e643b01467f608"
   }
  }
 },
 "nbformat": 4,
 "nbformat_minor": 2
}
