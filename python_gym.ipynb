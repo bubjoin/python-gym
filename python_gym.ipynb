{
 "cells": [
  {
   "cell_type": "markdown",
   "metadata": {},
   "source": [
    "# Python Gym  \n",
    "**Increase the dumbbell weights gradually**  \n",
    "\n",
    "**Hyung Jin Kim**  \n",
    "**bubjoin@gmail.com**  \n",
    "**MIT License**  "
   ]
  },
  {
   "cell_type": "markdown",
   "metadata": {},
   "source": [
    "**Imagine What Is Happening in a Computer Memory**  \n",
    "\n",
    "**Because on the computer memory,**  \n",
    "**we are solving problems between inputs and outputs**  \n",
    "**using data structures and algorithms through computer languages**  "
   ]
  },
  {
   "cell_type": "markdown",
   "metadata": {},
   "source": [
    "**Python 3.10+ Recommended**"
   ]
  },
  {
   "cell_type": "markdown",
   "metadata": {},
   "source": [
    "**The print() Function**  \n",
    "\n",
    "With bare eyes, we can not see inside the memory cells of a computer  \n",
    "\n",
    "We can use the print() function as the memory log of a computer  \n",
    "It helps us see what's in the memory cells of a computer  \n",
    "and what processes are happening in them\n",
    "\n",
    "It can be used to narrow down where and to find out what errors occur  \n",
    "Because we can insert the print() function almost anywhere in our code  \n",
    "That's why we first learn it when we start to practice a computer language  "
   ]
  },
  {
   "cell_type": "code",
   "execution_count": 11,
   "metadata": {},
   "outputs": [
    {
     "name": "stdout",
     "output_type": "stream",
     "text": [
      "Hello, world!\n"
     ]
    }
   ],
   "source": [
    "# The print function is useful \n",
    "# to check what is in the computer's memory and to debug our code\n",
    "\n",
    "print(\"Hello, world!\")"
   ]
  },
  {
   "cell_type": "markdown",
   "metadata": {},
   "source": [
    "**Variables - type hint, del, namespace, scope, dir, type, input**"
   ]
  },
  {
   "cell_type": "code",
   "execution_count": 48,
   "metadata": {},
   "outputs": [
    {
     "name": "stdout",
     "output_type": "stream",
     "text": [
      "True\n",
      "38\n"
     ]
    }
   ],
   "source": [
    "# Type hint is possible in Python 3.10+ like this, my_age: int\n",
    "\n",
    "my_age = 38 # my_age has global scope\n",
    "\n",
    "print('my_age' in dir())\n",
    "print(my_age)"
   ]
  },
  {
   "cell_type": "code",
   "execution_count": 49,
   "metadata": {},
   "outputs": [
    {
     "name": "stdout",
     "output_type": "stream",
     "text": [
      "False\n"
     ]
    }
   ],
   "source": [
    "# delete the access point to the object having value of 38\n",
    "# del occurs error when the target is not defined or already gone\n",
    "\n",
    "del my_age\n",
    "\n",
    "print('my_age' in dir()) # my_age has been deleted"
   ]
  },
  {
   "cell_type": "code",
   "execution_count": 51,
   "metadata": {},
   "outputs": [
    {
     "name": "stdout",
     "output_type": "stream",
     "text": [
      "['str', 'sum', 'super', 'tuple', 'type', 'vars', 'zip']\n"
     ]
    }
   ],
   "source": [
    "# In Python there are 4 types of variable scopes, and it prevents name clashes\n",
    "# Each module(file) has:\n",
    "\n",
    "# Local scope, it is a namespace in a function\n",
    "\n",
    "# Enclosing scope, a namespace between a nested function and the enclosing one\n",
    "# One can use 'nonlocal' in a nested function to find name in the enclosing one\n",
    "# nonlocal variable_name, it finds name in non-local scopes\n",
    "\n",
    "# Global scope, it is a namespace all the functions in the module can access\n",
    "# One can use 'global' keyword in a function to find name in global scope\n",
    "# global variable_name\n",
    "\n",
    "# Built-in scope, Python looks for name in it after failing in other scopes\n",
    "\n",
    "# L > E > G > B rule\n",
    "\n",
    "# Standard library module 'builtins' is used to make the built-in scope\n",
    "# You can use all the things in the built-in scope anywhere in Python\n",
    "\n",
    "# dir(arg) returns valid members(attributes and methods) names in an object\n",
    "b_scope = dir(__builtins__)[-7:]\n",
    "\n",
    "print(b_scope)"
   ]
  },
  {
   "cell_type": "code",
   "execution_count": 58,
   "metadata": {},
   "outputs": [
    {
     "name": "stdout",
     "output_type": "stream",
     "text": [
      "<class 'str'>\n"
     ]
    }
   ],
   "source": [
    "my_book = \"Poor Richard's Almanack\"\n",
    "check_data_type = type(my_book)\n",
    "\n",
    "print(check_data_type)"
   ]
  },
  {
   "cell_type": "code",
   "execution_count": 16,
   "metadata": {},
   "outputs": [
    {
     "name": "stdout",
     "output_type": "stream",
     "text": [
      "A Common-Sense Guide to Data Structures and Algorithms(Second Edition) by Jay Wengrow\n",
      "<class 'str'>\n"
     ]
    }
   ],
   "source": [
    "# The input() function gets keyboard inputs from users\n",
    "# and returns the input as a string\n",
    "\n",
    "book = input(\"What's your favorite book? \")\n",
    "\n",
    "print(book)\n",
    "print(type(book))"
   ]
  },
  {
   "cell_type": "markdown",
   "metadata": {},
   "source": [
    "**Data Types**  \n",
    "**- int, float, str, boolean, ...**  \n",
    "**- number system, base, underscore, floating point notation, complex number**  \n",
    "**- Unicode, encodings, escape sequence**  "
   ]
  },
  {
   "cell_type": "code",
   "execution_count": 1,
   "metadata": {},
   "outputs": [
    {
     "name": "stdout",
     "output_type": "stream",
     "text": [
      "[<class 'int'>, <class 'float'>, <class 'str'>, <class 'list'>]\n",
      "[<class 'tuple'>, <class 'dict'>, <class 'set'>, <class 'bool'>]\n",
      "[<class 'NoneType'>, <class 'ellipsis'>]\n"
     ]
    }
   ],
   "source": [
    "num_int = 0\n",
    "num_float = 0. # Adding dot to a number makes it float\n",
    "a_string = \"Benjamin Franklin\"\n",
    "a_list = []\n",
    "a_tuple = tuple()\n",
    "a_dict = {} # {} is a dictionary, not a set\n",
    "a_set = set()\n",
    "true_or_false = (0!=1)\n",
    "none = None\n",
    "\n",
    "# There are more types not listed here\n",
    "vars = [ num_int, num_float, a_string, a_list, \n",
    "         a_tuple, a_dict, a_set, true_or_false,\n",
    "         none, ... ]\n",
    "\n",
    "types_of_vars = [type(var) for var in vars] # List comprehension is concise\n",
    "\n",
    "print(types_of_vars[:4])\n",
    "print(types_of_vars[4:8])\n",
    "print(types_of_vars[8:])"
   ]
  },
  {
   "cell_type": "code",
   "execution_count": 422,
   "metadata": {},
   "outputs": [
    {
     "name": "stdout",
     "output_type": "stream",
     "text": [
      "255 255 255 255 0xff 0o377 0b11111111 255 255\n"
     ]
    }
   ],
   "source": [
    "# The 4 common number systems are:\n",
    "\n",
    "num = 255 # decimal\n",
    "\n",
    "num1 = 0xff # hexadecimal number system\n",
    "num2 = 0o377 # octal\n",
    "num3 = 0b11111111 # binary\n",
    "\n",
    "# The hex(), oct(), bin() functions returns strings\n",
    "str1 = hex(num)\n",
    "str2 = oct(num)\n",
    "str3 = bin(num)\n",
    "\n",
    "# There are two ways of using int() function\n",
    "# One of them is like int(floating-point numbers) to return a integer\n",
    "# And the other is like:\n",
    "num4 = int(str1, 16) # int(value 'string', the base of the current system)\n",
    "num5 = int(oct(num), 8)\n",
    "\n",
    "print(num, num1, num2, num3, str1, str2, str3, num4, num5)"
   ]
  },
  {
   "cell_type": "code",
   "execution_count": 33,
   "metadata": {},
   "outputs": [
    {
     "name": "stdout",
     "output_type": "stream",
     "text": [
      "True\n"
     ]
    }
   ],
   "source": [
    "# Underscore makes long numbers read better\n",
    "\n",
    "long_number1 = 1000000000000 # trillion\n",
    "long_number2 = 1000_000_000_000 # trillion\n",
    "equal = long_number1 == long_number2\n",
    "\n",
    "print(equal)"
   ]
  },
  {
   "cell_type": "code",
   "execution_count": 49,
   "metadata": {},
   "outputs": [
    {
     "name": "stdout",
     "output_type": "stream",
     "text": [
      "7,753,000,000\n"
     ]
    }
   ],
   "source": [
    "# Floating point notation shows numbers as decimal fractions and exponents\n",
    "\n",
    "population = 7.753e9\n",
    "\n",
    "print(f\"{population:,.0f}\")"
   ]
  },
  {
   "cell_type": "code",
   "execution_count": 62,
   "metadata": {},
   "outputs": [
    {
     "name": "stdout",
     "output_type": "stream",
     "text": [
      "<class 'complex'>\n",
      "(2+3j) (2-3j) (13+0j)\n",
      "The real part of 2 is: 2\n",
      "The image part of 2 is: 0\n"
     ]
    }
   ],
   "source": [
    "# A complex number has a real part and an imaginary part\n",
    "\n",
    "c_num = 2 + 3j # c_num.real + c_num.imag * 1j\n",
    "\n",
    "\n",
    "# A conjugate has identical real part,\n",
    "# and the image part of equal magnitude with opposite sign\n",
    "conjugate = c_num.conjugate() # 2 - 3j \n",
    "\n",
    "# We can't use // operator(called floor division operator) for complex numbers\n",
    "# We can use the other arithmetic operators for complex numbers, +, -, *, /, **\n",
    "c_num_x_con = c_num * c_num.conjugate() # 13 + 0j\n",
    "\n",
    "# Be careful\n",
    "# In dir(2), you can see imag\n",
    "# But 2.imag makes SyntaxError: invalid decimal literal\n",
    "# The right way is:\n",
    "two = 2\n",
    "two_real = two.real\n",
    "two_imag = two.imag\n",
    "\n",
    "print(type(conjugate))\n",
    "print(c_num, conjugate, c_num_x_con)\n",
    "print(\"The real part of 2 is: \" + str(two_real))\n",
    "print(\"The image part of 2 is: \" + str(two_imag))"
   ]
  },
  {
   "cell_type": "code",
   "execution_count": 106,
   "metadata": {},
   "outputs": [
    {
     "name": "stdout",
     "output_type": "stream",
     "text": [
      "😀😁😂😃\n",
      "0x1f600\n",
      "abc\n"
     ]
    }
   ],
   "source": [
    "# Unicode and encoding are different things\n",
    "# Python uses Unicode\n",
    "# In Unicode, each character has its own code point\n",
    "# Endcoding is the way converting a code point into a binary string\n",
    "# Python uses Unicode Translation Format UTF-8 and other encodings\n",
    "\n",
    "smiley1 = chr(0x1F600) # The Unicode code point U+1F600\n",
    "smiley2 = chr(0x1F601) # chr() returns the character of a code point\n",
    "smiley3 = chr(0x1F602) # Face with Tears of Joy\n",
    "smiley4 = chr(0x1F603)\n",
    "smiley_bros = smiley1 + smiley2 + smiley3 +smiley4\n",
    "\n",
    "# ord() takes only 1 charcter, and returns the code point of it\n",
    "# The name of the ord() function stands for ordinal\n",
    "smiley1_code_point = hex(ord('😀'))\n",
    "\n",
    "abc = chr(0x0061) + chr(0x0061 + 1) + chr(0x0061 + 2)\n",
    "\n",
    "print(smiley_bros)\n",
    "print(smiley1_code_point)\n",
    "print(abc)"
   ]
  },
  {
   "cell_type": "code",
   "execution_count": 89,
   "metadata": {},
   "outputs": [
    {
     "name": "stdout",
     "output_type": "stream",
     "text": [
      "\\/\\/ Welcome to 'Python Gym'! \\/\\/\n",
      "Let's play with data using \"Python\"\n",
      "The powerful and interesting computer language!\n"
     ]
    }
   ],
   "source": [
    "\n",
    "long_string = \"\\\\/\\\\/ Welcome to \\'Python Gym\\'! \\\\/\\\\/\\n\\\n",
    "Let's play with data using \\\"Python\\\"\\nThe powerful and interesting \\\n",
    "computer language!\"\n",
    "\n",
    "print(long_string)"
   ]
  },
  {
   "cell_type": "markdown",
   "metadata": {},
   "source": [
    "**Operators**  \n",
    "**- bitwise operators**   \n",
    "**- membership operators, identity operators**  \n",
    "**- logical operators, comparison operators**  \n",
    "**- assignment operators, arithmetic operators**  "
   ]
  },
  {
   "cell_type": "code",
   "execution_count": 112,
   "metadata": {},
   "outputs": [
    {
     "name": "stdout",
     "output_type": "stream",
     "text": [
      "bitwise and: (1,1) -> 1\n",
      "bitwise and: (1,0) -> 0\n",
      "bitwise and: (0,1) -> 0\n",
      "bitwise and: (0,0) -> 0\n",
      "bitwise or: (1,1) -> 1\n",
      "bitwise or: (1,0) -> 1\n",
      "bitwise or: (0,1) -> 1\n",
      "bitwise or: (0,0) -> 0\n",
      "bitwise xor: (1,1) -> 0\n",
      "bitwise xor: (1,0) -> 1\n",
      "bitwise xor: (0,1) -> 1\n",
      "bitwise xor: (0,0) -> 0\n",
      "our xor gate: (1,1) -> 0\n",
      "our xor gate: (1,0) -> 1\n",
      "our xor gate: (0,1) -> 1\n",
      "our xor gate: (0,0) -> 0\n"
     ]
    }
   ],
   "source": [
    "inputs = ((1,1),(1,0),(0,1),(0,0))\n",
    "\n",
    "for a,b in inputs:\n",
    "    bitwise_and = a & b\n",
    "    print(f\"bitwise and: ({a},{b}) -> {bitwise_and}\")\n",
    "\n",
    "for a,b in inputs:\n",
    "    bitwise_or = a | b\n",
    "    print(f\"bitwise or: ({a},{b}) -> {bitwise_or}\")\n",
    "\n",
    "for a,b in inputs:\n",
    "    bitwise_xor = a ^ b\n",
    "    print(f\"bitwise xor: ({a},{b}) -> {bitwise_xor}\")\n",
    "\n",
    "# Let's make a xor gate with using the other bitwise operators except xor\n",
    "for a,b in inputs:\n",
    "    my_xor_gate = (a | b) & (~ (a & b)) # &(and), |(or), ~(not)\n",
    "    print(f\"our xor gate: ({a},{b}) -> {my_xor_gate}\")"
   ]
  },
  {
   "cell_type": "code",
   "execution_count": 315,
   "metadata": {},
   "outputs": [
    {
     "name": "stdout",
     "output_type": "stream",
     "text": [
      "10\n",
      "-6\n",
      "-6 1010 -110\n",
      "1010\n"
     ]
    }
   ],
   "source": [
    "# For bitwise operations,\n",
    "# Python converts the sign magnitude notation into 2's complement to process,\n",
    "# and it returns the result back in the sign magnitude\n",
    "# In Python, int type has an unlimited length within the computer's memory size\n",
    "# When we think about the bit operation, we should remember the things above\n",
    "\n",
    "i = -6 # 1...11111010 in 2's complement representation\n",
    "j = i & 0b1111 # 0...00001010\n",
    "\n",
    "print(j) # 10\n",
    "\n",
    "k = ~ (j ^ 0b1111) # ~ (0...00000101) -> (1...11111010)\n",
    "\n",
    "print(k) # -6\n",
    "\n",
    "print(f\"{i} {j:b} {k:b}\") # -6 1010 -110\n",
    "\n",
    "\n",
    "l = k & 0b1111 # 0...00001010, it lost (-)\n",
    "\n",
    "print(f\"{l:b}\") # 1010"
   ]
  },
  {
   "cell_type": "code",
   "execution_count": 317,
   "metadata": {},
   "outputs": [
    {
     "name": "stdout",
     "output_type": "stream",
     "text": [
      "bitwise not: 10111110 -> 01000001\n",
      "0b1\n",
      "0b1\n",
      "True\n",
      "-0b1\n",
      "0b1111\n",
      "False\n",
      "15\n"
     ]
    }
   ],
   "source": [
    "# The bitwise not operator inverts all the bits of a number\n",
    "\n",
    "b_num = 0b10111110\n",
    "bitwise_not = ~ b_num\n",
    "\n",
    "# The way to get binary notation of a number in Python is below\n",
    "bin_b_num = bin(0b11111111 & b_num) # The bin() function returns a string\n",
    "bin_bitwise_not = bin(0b11111111 & bitwise_not) # & operator returns an integer\n",
    "\n",
    "# Remove '0b' and fill in the blanks with zeros in an 8-character wide string\n",
    "# Aligning the slice to the right(>) is very, very important\n",
    "print(f\"bitwise not: {bin_b_num[2:]:0>8} -> {bin_bitwise_not[2:]:0>8}\")\n",
    "\n",
    "# See the difference\n",
    "print(bin(1)) # 0b1\n",
    "print(bin(15 & 1)) #0b1\n",
    "print(bin(1) == bin(15 & 1)) #True\n",
    "\n",
    "print(bin(-1)) # -0b1\n",
    "print(bin(15 & -1)) #0b1111\n",
    "print(bin(-1) == bin(15 & -1)) #False\n",
    "\n",
    "# Be careful, Python reads 0b1111 as the unsigned int 15, not -1\n",
    "print(0b1111)"
   ]
  },
  {
   "cell_type": "code",
   "execution_count": 349,
   "metadata": {},
   "outputs": [
    {
     "name": "stdout",
     "output_type": "stream",
     "text": [
      "   1    -1\n",
      "   2    -2\n",
      "   4    -4\n",
      "   8    -8\n",
      "  16   -16\n",
      "  32   -32\n",
      "  64   -64\n",
      " 128  -128\n"
     ]
    }
   ],
   "source": [
    "# The bitwise left shift is equivalent to multiplying a number by 2**n\n",
    "# filling zeros in the right voids in the 2's complement representation\n",
    "\n",
    "for n in range(0,8):\n",
    "    bitwise_shift_left1 = 1 << n\n",
    "    bitwise_shift_left2 = -1 << n\n",
    "\n",
    "    print(f\"{bitwise_shift_left1:>4}  {bitwise_shift_left2:>4}\")"
   ]
  },
  {
   "cell_type": "code",
   "execution_count": 350,
   "metadata": {},
   "outputs": [
    {
     "name": "stdout",
     "output_type": "stream",
     "text": [
      "87654321\n",
      "01111111: 127\n",
      "00111111: 63\n",
      "00011111: 31\n",
      "00001111: 15\n",
      "00000111: 7\n",
      "00000011: 3\n",
      "00000001: 1\n",
      "00000000: 0\n",
      "\n",
      "87654321\n",
      "10000000: -128\n",
      "11000000: -64\n",
      "11100000: -32\n",
      "11110000: -16\n",
      "11111000: -8\n",
      "11111100: -4\n",
      "11111110: -2\n",
      "11111111: -1\n"
     ]
    }
   ],
   "source": [
    "# The bitwise right shift for a number by n places is\n",
    "# equivalent to doing floor division(//) to the number by 2**n\n",
    "\n",
    "print(87654321)\n",
    "for n in range(0,8):\n",
    "    bitwise_shift_right = 127 >> n\n",
    "    bin_bitwise_shift_right = bin(0b11111111 & bitwise_shift_right)\n",
    "    print(f\"{bin_bitwise_shift_right[2:]:0>8}: {bitwise_shift_right}\")\n",
    "\n",
    "print()\n",
    "\n",
    "print(87654321)\n",
    "for n in range(0,8):\n",
    "    bitwise_shift_right = -128 >> n\n",
    "    bin_bitwise_shift_right = bin(0b11111111 & bitwise_shift_right)\n",
    "    print(f\"{bin_bitwise_shift_right[2:]:0>8}: {bitwise_shift_right}\")"
   ]
  },
  {
   "cell_type": "code",
   "execution_count": 357,
   "metadata": {},
   "outputs": [
    {
     "name": "stdout",
     "output_type": "stream",
     "text": [
      "True\n",
      "True\n"
     ]
    }
   ],
   "source": [
    "# Membership operators are: in, not in\n",
    "\n",
    "gym = \"Python Gym\"\n",
    "python_in = \"Python\" in gym\n",
    "\n",
    "print(python_in)\n",
    "\n",
    "nutrients = ['proteins', 'carbohydrates', 'fats', 'vitamins', 'minerals']\n",
    "no_sugar = \"sugar\" not in nutrients\n",
    "\n",
    "print(no_sugar)\n"
   ]
  },
  {
   "cell_type": "code",
   "execution_count": 371,
   "metadata": {},
   "outputs": [
    {
     "name": "stdout",
     "output_type": "stream",
     "text": [
      "True\n",
      "True\n"
     ]
    }
   ],
   "source": [
    "# Identity operators are: is, is not\n",
    "\n",
    "list1 = ['proteins', 'carbohydrates', 'fats', 'vitamins', 'minerals']\n",
    "list2 = list1 # Substitution\n",
    "list3 = list1[:] # Shallow copy \n",
    "\n",
    "print(list1 is list2)\n",
    "print(list1 is not list3)"
   ]
  },
  {
   "cell_type": "code",
   "execution_count": 373,
   "metadata": {},
   "outputs": [
    {
     "name": "stdout",
     "output_type": "stream",
     "text": [
      "True\n",
      "True\n",
      "False\n"
     ]
    }
   ],
   "source": [
    "# Logical operators are: and, or, true\n",
    "\n",
    "print(True and True)\n",
    "print(True or False)\n",
    "print(not True)"
   ]
  },
  {
   "cell_type": "code",
   "execution_count": 375,
   "metadata": {},
   "outputs": [
    {
     "name": "stdout",
     "output_type": "stream",
     "text": [
      "True\n",
      "False\n",
      "True\n",
      "False\n"
     ]
    }
   ],
   "source": [
    "# Comparison operators are used like:\n",
    "\n",
    "print(0 == 0)\n",
    "print(0 != 0)\n",
    "print(1 > 0)\n",
    "print(1 <= 0)"
   ]
  },
  {
   "cell_type": "code",
   "execution_count": 380,
   "metadata": {},
   "outputs": [
    {
     "name": "stdout",
     "output_type": "stream",
     "text": [
      "1\n",
      "1\n",
      "1\n",
      "1\n"
     ]
    }
   ],
   "source": [
    "# Assignment operators are used like:\n",
    "\n",
    "a = 1\n",
    "a += 1\n",
    "print(1)\n",
    "\n",
    "b = 7\n",
    "b %= 2\n",
    "print(b)\n",
    "\n",
    "c = 0\n",
    "c |= 1\n",
    "print(c)\n",
    "\n",
    "d = 3\n",
    "d >>= 1\n",
    "print(d)"
   ]
  },
  {
   "cell_type": "code",
   "execution_count": 394,
   "metadata": {},
   "outputs": [
    {
     "name": "stdout",
     "output_type": "stream",
     "text": [
      "8.0\n",
      "<class 'float'>\n",
      "1.4142135623730951\n",
      "8.999999999999998\n"
     ]
    }
   ],
   "source": [
    "# Arithmetic operators are:\n",
    "# + addition, - subtraction\n",
    "# * multiplication, / division\n",
    "# // floor division, % modulus\n",
    "# ** exponentiation\n",
    "\n",
    "f = 16 / 2 # 8.0, float\n",
    "print(f)\n",
    "print(type(f))\n",
    "\n",
    "sqrt = 2**0.5 # square root\n",
    "print(sqrt)\n",
    "\n",
    "test = (9*9*9)**(1/3) # not safe\n",
    "print(test)"
   ]
  },
  {
   "cell_type": "code",
   "execution_count": 416,
   "metadata": {},
   "outputs": [
    {
     "name": "stdout",
     "output_type": "stream",
     "text": [
      "True\n",
      "True\n",
      "No pain, no gain!\n",
      "GOGOGO\n"
     ]
    }
   ],
   "source": [
    "# Operators relating to strings are like:\n",
    "\n",
    "print(\"PYTHON GYM\".title() == \"Python Gym\")\n",
    "print(\"Python Gym\".lower() != \"Python Gym\".upper())\n",
    "print(\"No pain, \" + \"no gain!\")\n",
    "print(\"GO\" * 3)"
   ]
  },
  {
   "cell_type": "markdown",
   "metadata": {},
   "source": [
    "**Control Flow**  \n",
    "**- if, elif, else**  \n",
    "**- match and case(Python 3.10+)**  \n",
    "**- for, while, continue, else, break**  "
   ]
  },
  {
   "cell_type": "code",
   "execution_count": 848,
   "metadata": {},
   "outputs": [
    {
     "name": "stdout",
     "output_type": "stream",
     "text": [
      "Python 3\n"
     ]
    }
   ],
   "source": [
    "# Selection\n",
    "\n",
    "ver = 3\n",
    "\n",
    "# If ver is None, an error occurs, because\n",
    "# '>=' is not supported between the None and the int types\n",
    "# So we check first if ver is None or not\n",
    "if ver:\n",
    "    if ( ver >= 2 ) and ( ver < 3 ):\n",
    "        print(\"Python 2\")\n",
    "    elif 3 <= ver < 4: \n",
    "        print(\"Python 3\")\n",
    "    else:\n",
    "        print(\"Really?\")\n",
    "else:\n",
    "    print(\"None\")"
   ]
  },
  {
   "cell_type": "code",
   "execution_count": 426,
   "metadata": {},
   "outputs": [
    {
     "name": "stdout",
     "output_type": "stream",
     "text": [
      "proteins\n",
      "carbohydrates\n",
      "fats\n",
      "vitamins and minerals\n"
     ]
    }
   ],
   "source": [
    "# The match statement and case statements in Python 3.10+\n",
    "\n",
    "# for c in ['p','c','f',' ']:\n",
    "#     match c:\n",
    "#         case 'p':\n",
    "#             print(\"proteins\")\n",
    "#         case 'c':\n",
    "#             print(\"carbohydrates\")\n",
    "#         case 'f':\n",
    "#             print(\"fats\")\n",
    "#         case default:\n",
    "#             print(\"vitamins and minerals\")"
   ]
  },
  {
   "cell_type": "code",
   "execution_count": 461,
   "metadata": {},
   "outputs": [
    {
     "name": "stdout",
     "output_type": "stream",
     "text": [
      " 2 x 1  =  2   3 x 1  =  3   4 x 1  =  4   5 x 1  =  5  \n",
      " 2 x 2  =  4   3 x 2  =  6   4 x 2  =  8   5 x 2  = 10  \n",
      " 2 x 3  =  6   3 x 3  =  9   4 x 3  = 12   5 x 3  = 15  \n",
      " 2 x 4  =  8   3 x 4  = 12   4 x 4  = 16   5 x 4  = 20  \n",
      " 2 x 5  = 10   3 x 5  = 15   4 x 5  = 20   5 x 5  = 25  \n",
      " 2 x 6  = 12   3 x 6  = 18   4 x 6  = 24   5 x 6  = 30  \n",
      " 2 x 7  = 14   3 x 7  = 21   4 x 7  = 28   5 x 7  = 35  \n",
      " 2 x 8  = 16   3 x 8  = 24   4 x 8  = 32   5 x 8  = 40  \n",
      " 2 x 9  = 18   3 x 9  = 27   4 x 9  = 36   5 x 9  = 45  \n",
      "\n",
      " 6 x 1  =  6   7 x 1  =  7   8 x 1  =  8   9 x 1  =  9  \n",
      " 6 x 2  = 12   7 x 2  = 14   8 x 2  = 16   9 x 2  = 18  \n",
      " 6 x 3  = 18   7 x 3  = 21   8 x 3  = 24   9 x 3  = 27  \n",
      " 6 x 4  = 24   7 x 4  = 28   8 x 4  = 32   9 x 4  = 36  \n",
      " 6 x 5  = 30   7 x 5  = 35   8 x 5  = 40   9 x 5  = 45  \n",
      " 6 x 6  = 36   7 x 6  = 42   8 x 6  = 48   9 x 6  = 54  \n",
      " 6 x 7  = 42   7 x 7  = 49   8 x 7  = 56   9 x 7  = 63  \n",
      " 6 x 8  = 48   7 x 8  = 56   8 x 8  = 64   9 x 8  = 72  \n",
      " 6 x 9  = 54   7 x 9  = 63   8 x 9  = 72   9 x 9  = 81  \n",
      "\n"
     ]
    }
   ],
   "source": [
    "# Using doouble-for loops, we can make a multiplication table\n",
    "\n",
    "for i in range(2,10,4):\n",
    "    for j in range(1,10):\n",
    "        print(f\"{i:>2} x {j:<2} = {i*j:>2}\", end=\"  \")\n",
    "        print(f\"{i+1:>2} x {j:<2} = {(i+1)*j:2}\", end=\"  \")\n",
    "        print(f\"{i+2:>2} x {j:<2} = {(i+2)*j:>2}\", end=\"  \")\n",
    "        print(f\"{i+3:>2} x {j:<2} = {(i+3)*j:>2}\", end=\"  \")\n",
    "        if (i==2) or (i==6): print()\n",
    "        if (j==9): print()"
   ]
  },
  {
   "cell_type": "code",
   "execution_count": 467,
   "metadata": {},
   "outputs": [
    {
     "name": "stdout",
     "output_type": "stream",
     "text": [
      "0 3 8 15 24 35 48 63 80 99 120 143 168 195 224 255 288 323 360 399 \n",
      "2850\n"
     ]
    }
   ],
   "source": [
    "# Using the while loop, we can get the sum of a progression quickly\n",
    "\n",
    "n = 0\n",
    "sum = 0\n",
    "\n",
    "while True:\n",
    "    n += 1\n",
    "    a_n = n**2 - 1 # The general form of a progression\n",
    "    print(a_n, end=\" \")\n",
    "    sum += a_n\n",
    "    if n==20: # The last term\n",
    "        print()\n",
    "        break\n",
    "\n",
    "print(sum)"
   ]
  },
  {
   "cell_type": "code",
   "execution_count": 832,
   "metadata": {},
   "outputs": [
    {
     "name": "stdout",
     "output_type": "stream",
     "text": [
      "👉:1F449 🐍:1F40D 💰:1F4B0 🔒:1F512 🐉:1F409 🔑:1F511 \n",
      "STAGE : ['🔑', '🐍', '💰', '🐍', '🔒', '🐍', '🔒', '🔑', '💰', '💰']\n",
      "STAGE CLEAR!\n",
      "SCORE : HP 76 Money 10\n",
      "LUCKY!\n"
     ]
    }
   ],
   "source": [
    "# Now we can go to the random maze\n",
    "# We are lucky if we clear the stage and get some money\n",
    "\n",
    "import random\n",
    "\n",
    "MAZE_SIZE = 10\n",
    "\n",
    "items = ['👉', '🐍', '💰','🔒', '🐉', '🔑']\n",
    "\n",
    "for cp in items:\n",
    "    print(f\"{cp}:{ord(cp):X}\", end=\" \")\n",
    "print()\n",
    "\n",
    "maze = []\n",
    "\n",
    "for cnt in range(MAZE_SIZE):\n",
    "    items_random_index = random.randint(0, len(items)-1)\n",
    "    maze.append(items[items_random_index])\n",
    "\n",
    "print(f\"STAGE : {maze}\")\n",
    "\n",
    "hp = 100\n",
    "key = False\n",
    "money = 0\n",
    "pos = 0\n",
    "clear = False\n",
    "\n",
    "while hp > 0:\n",
    "    wegot = ord(maze[pos])\n",
    "\n",
    "    if wegot == 0x1F511:\n",
    "        key = True\n",
    "    elif wegot == 0x1F512:\n",
    "        if key:\n",
    "            print(\"STAGE CLEAR!\")\n",
    "            print(f\"SCORE : HP {hp:<2} Money {money:<}\")\n",
    "            clear = True\n",
    "            break\n",
    "    elif wegot == 0x1F40D:\n",
    "        hp -= 10\n",
    "    elif wegot == 0x1F409:\n",
    "        hp -= 50\n",
    "    elif wegot == 0x1F4B0:\n",
    "        money += 10\n",
    "    else:\n",
    "        pass\n",
    "    \n",
    "    hp = hp - 1\n",
    "\n",
    "    if pos == (MAZE_SIZE -1):\n",
    "        pos = 0\n",
    "    else:\n",
    "        pos += 1\n",
    "\n",
    "if not clear:\n",
    "    print(\"GAME OVER\")\n",
    "    print(f\"SCORE : HP {hp:<2} Money {money:<}\")\n",
    "elif clear and money:\n",
    "    print(\"LUCKY!\")\n",
    "else:\n",
    "    pass"
   ]
  },
  {
   "cell_type": "code",
   "execution_count": 847,
   "metadata": {},
   "outputs": [
    {
     "name": "stdout",
     "output_type": "stream",
     "text": [
      "continue:\n",
      "0 1 3 4 \n",
      "We reached the end of the for statement\n",
      "without printing the number 2\n",
      "\n",
      "break:\n",
      "0 1 "
     ]
    }
   ],
   "source": [
    "# The for loop with continue, else, break\n",
    "\n",
    "print(\"continue:\")\n",
    "\n",
    "for i in range(5):\n",
    "    if i == 2:\n",
    "        # The continue ignores the below rest of the code\n",
    "        # in the iteration at the moment, and continue iterating again\n",
    "        continue\n",
    "    print(i, end=' ')\n",
    "else:\n",
    "    print(\"\\nWe reached the end of the for statement\")\n",
    "    print(\"without printing the number 2\")\n",
    "\n",
    "print(\"\\nbreak:\")\n",
    "\n",
    "for i in range(5):\n",
    "    if i == 2:\n",
    "        break # It stops the iteration and go out the for statement\n",
    "    print(i, end=' ')\n",
    "else:\n",
    "    print(\"Here is the finish line of the for statement\")\n",
    "    print(\"The break can not reach the finish line\")"
   ]
  },
  {
   "cell_type": "code",
   "execution_count": null,
   "metadata": {},
   "outputs": [],
   "source": [
    "# 23456789012345678901234567890123456789012345678901234567890123456789012345678\n",
    "# ______________79_characters_line_including_#_and_the_space___________________"
   ]
  }
 ],
 "metadata": {
  "kernelspec": {
   "display_name": "Python 3.10.5 ('.venv': venv)",
   "language": "python",
   "name": "python3"
  },
  "language_info": {
   "codemirror_mode": {
    "name": "ipython",
    "version": 3
   },
   "file_extension": ".py",
   "mimetype": "text/x-python",
   "name": "python",
   "nbconvert_exporter": "python",
   "pygments_lexer": "ipython3",
   "version": "3.10.5"
  },
  "orig_nbformat": 4,
  "vscode": {
   "interpreter": {
    "hash": "6b570bab3455b67666389aa94b8816bd4728e5d282f5bcdbd0554a3126af7047"
   }
  }
 },
 "nbformat": 4,
 "nbformat_minor": 2
}
