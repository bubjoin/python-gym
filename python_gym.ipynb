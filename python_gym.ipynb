{
 "cells": [
  {
   "cell_type": "markdown",
   "metadata": {},
   "source": [
    "# Python Gym  \n",
    "**Increase the dumbbell weights gradually**  \n",
    "\n",
    "**Hyung Jin Kim**  \n",
    "**bubjoin@gmail.com**  \n",
    "**MIT License**  "
   ]
  },
  {
   "cell_type": "markdown",
   "metadata": {},
   "source": [
    "**Imagine What Is Happening in a Computer Memory**  \n",
    "\n",
    "**Because on the computer memory,**  \n",
    "**we are solving problems between inputs and outputs**  \n",
    "**using data structures and algorithms through computer languages**  "
   ]
  },
  {
   "cell_type": "markdown",
   "metadata": {},
   "source": [
    "**Python 3.10+ Recommended**"
   ]
  },
  {
   "cell_type": "markdown",
   "metadata": {},
   "source": [
    "**The print() Function**  \n",
    "\n",
    "With bare eyes, we can not see inside the memory cells of a computer  \n",
    "\n",
    "We can use the print() function as the memory log of a computer  \n",
    "It helps us see what's in the memory cells of a computer  \n",
    "and what processes are happening in them\n",
    "\n",
    "It can be used to narrow down where and to find out what errors occur  \n",
    "Because we can insert the print() function almost anywhere in our code  \n",
    "That's why we first learn it when we start to practice a computer language  "
   ]
  },
  {
   "cell_type": "code",
   "execution_count": 11,
   "metadata": {},
   "outputs": [
    {
     "name": "stdout",
     "output_type": "stream",
     "text": [
      "Hello, world!\n"
     ]
    }
   ],
   "source": [
    "# The print function is useful \n",
    "# to check what is in the computer's memory and to debug our code\n",
    "\n",
    "print(\"Hello, world!\")"
   ]
  },
  {
   "cell_type": "markdown",
   "metadata": {},
   "source": [
    "**Variables - type hint, del, namespace, scope, dir, type, input**"
   ]
  },
  {
   "cell_type": "code",
   "execution_count": 48,
   "metadata": {},
   "outputs": [
    {
     "name": "stdout",
     "output_type": "stream",
     "text": [
      "True\n",
      "38\n"
     ]
    }
   ],
   "source": [
    "# Type hint is possible in Python 3.10+ like this, my_age: int\n",
    "\n",
    "my_age = 38 # my_age has global scope\n",
    "\n",
    "print('my_age' in dir())\n",
    "print(my_age)"
   ]
  },
  {
   "cell_type": "code",
   "execution_count": 49,
   "metadata": {},
   "outputs": [
    {
     "name": "stdout",
     "output_type": "stream",
     "text": [
      "False\n"
     ]
    }
   ],
   "source": [
    "# delete the access point to the object having value of 38\n",
    "# del occurs error when the target is not defined or already gone\n",
    "\n",
    "del my_age\n",
    "\n",
    "print('my_age' in dir()) # my_age has been deleted"
   ]
  },
  {
   "cell_type": "code",
   "execution_count": 51,
   "metadata": {},
   "outputs": [
    {
     "name": "stdout",
     "output_type": "stream",
     "text": [
      "['str', 'sum', 'super', 'tuple', 'type', 'vars', 'zip']\n"
     ]
    }
   ],
   "source": [
    "# In Python there are 4 types of variable scopes, and it prevents name clashes\n",
    "# Each module(file) has:\n",
    "\n",
    "# Local scope, it is a namespace in a function\n",
    "\n",
    "# Enclosing scope, a namespace between a nested function and the enclosing one\n",
    "# One can use 'nonlocal' in a nested function to find name in the enclosing one\n",
    "# nonlocal variable_name, it finds name in non-local scopes\n",
    "\n",
    "# Global scope, it is a namespace all the functions in the module can access\n",
    "# One can use 'global' keyword in a function to find name in global scope\n",
    "# global variable_name\n",
    "\n",
    "# Built-in scope, Python looks for name in it after failing in other scopes\n",
    "\n",
    "# L > E > G > B rule\n",
    "\n",
    "# Standard library module 'builtins' is used to make the built-in scope\n",
    "# You can use all the things in the built-in scope anywhere in Python\n",
    "\n",
    "# dir(arg) returns valid members(attributes and methods) names in an object\n",
    "b_scope = dir(__builtins__)[-7:]\n",
    "\n",
    "print(b_scope)"
   ]
  },
  {
   "cell_type": "code",
   "execution_count": 58,
   "metadata": {},
   "outputs": [
    {
     "name": "stdout",
     "output_type": "stream",
     "text": [
      "<class 'str'>\n"
     ]
    }
   ],
   "source": [
    "my_book = \"Poor Richard's Almanack\"\n",
    "check_data_type = type(my_book)\n",
    "\n",
    "print(check_data_type)"
   ]
  },
  {
   "cell_type": "code",
   "execution_count": 16,
   "metadata": {},
   "outputs": [
    {
     "name": "stdout",
     "output_type": "stream",
     "text": [
      "A Common-Sense Guide to Data Structures and Algorithms(Second Edition) by Jay Wengrow\n",
      "<class 'str'>\n"
     ]
    }
   ],
   "source": [
    "# The input() function gets keyboard inputs from users\n",
    "# and returns the input as a string\n",
    "\n",
    "book = input(\"What's your favorite book? \")\n",
    "\n",
    "print(book)\n",
    "print(type(book))"
   ]
  },
  {
   "cell_type": "markdown",
   "metadata": {},
   "source": [
    "**Data Types**  \n",
    "**- int, float, str, boolean, ...**  \n",
    "**- number system, base, underscore, floating point notation, complex number**  \n",
    "**- Unicode, encodings, escape sequence**  "
   ]
  },
  {
   "cell_type": "code",
   "execution_count": 1,
   "metadata": {},
   "outputs": [
    {
     "name": "stdout",
     "output_type": "stream",
     "text": [
      "[<class 'int'>, <class 'float'>, <class 'str'>, <class 'list'>]\n",
      "[<class 'tuple'>, <class 'dict'>, <class 'set'>, <class 'bool'>]\n",
      "[<class 'NoneType'>, <class 'ellipsis'>]\n"
     ]
    }
   ],
   "source": [
    "num_int = 0\n",
    "num_float = 0. # Adding dot to a number makes it float\n",
    "a_string = \"Benjamin Franklin\"\n",
    "a_list = []\n",
    "a_tuple = tuple()\n",
    "a_dict = {} # {} is a dictionary, not a set\n",
    "a_set = set()\n",
    "true_or_false = (0!=1)\n",
    "none = None\n",
    "\n",
    "# There are more types not listed here\n",
    "vars = [ num_int, num_float, a_string, a_list, \n",
    "         a_tuple, a_dict, a_set, true_or_false,\n",
    "         none, ... ]\n",
    "\n",
    "types_of_vars = [type(var) for var in vars] # List comprehension is concise\n",
    "\n",
    "print(types_of_vars[:4])\n",
    "print(types_of_vars[4:8])\n",
    "print(types_of_vars[8:])"
   ]
  },
  {
   "cell_type": "code",
   "execution_count": 32,
   "metadata": {},
   "outputs": [
    {
     "name": "stdout",
     "output_type": "stream",
     "text": [
      "255 255 255 255 0xff 0o377 0b11111111 255\n"
     ]
    }
   ],
   "source": [
    "# The 4 common number systems are:\n",
    "\n",
    "num_16 = 0xff # hexadecimal number system\n",
    "num_10 = 255 # decimal\n",
    "num_8 = 0o377 # octal\n",
    "num_2 = 0b11111111 # binary\n",
    "\n",
    "to_hex = hex(num_10)\n",
    "to_oct = oct(num_10)\n",
    "to_bin = bin(num_10)\n",
    "\n",
    "# There are two ways of using int() function\n",
    "# One of them is like int(floating-point numbers) to return a integer\n",
    "# And the other is like:\n",
    "to_dec = int('377', 8) # int(value 'string', the base of the current system)\n",
    "\n",
    "print(num_16, num_10, num_8, num_2, to_hex, to_oct, to_bin, to_dec)"
   ]
  },
  {
   "cell_type": "code",
   "execution_count": 33,
   "metadata": {},
   "outputs": [
    {
     "name": "stdout",
     "output_type": "stream",
     "text": [
      "True\n"
     ]
    }
   ],
   "source": [
    "# Underscore makes long numbers read better\n",
    "\n",
    "long_number1 = 1000000000000 # trillion\n",
    "long_number2 = 1000_000_000_000 # trillion\n",
    "equal = long_number1 == long_number2\n",
    "\n",
    "print(equal)"
   ]
  },
  {
   "cell_type": "code",
   "execution_count": 49,
   "metadata": {},
   "outputs": [
    {
     "name": "stdout",
     "output_type": "stream",
     "text": [
      "7,753,000,000\n"
     ]
    }
   ],
   "source": [
    "# Floating point notation shows numbers as decimal fractions and exponents\n",
    "\n",
    "population = 7.753e9\n",
    "\n",
    "print(f\"{population:,.0f}\")"
   ]
  },
  {
   "cell_type": "code",
   "execution_count": 62,
   "metadata": {},
   "outputs": [
    {
     "name": "stdout",
     "output_type": "stream",
     "text": [
      "<class 'complex'>\n",
      "(2+3j) (2-3j) (13+0j)\n",
      "The real part of 2 is: 2\n",
      "The image part of 2 is: 0\n"
     ]
    }
   ],
   "source": [
    "# A complex number has a real part and an imaginary part\n",
    "\n",
    "c_num = 2 + 3j # c_num.real + c_num.imag * 1j\n",
    "\n",
    "\n",
    "# A conjugate has identical real part,\n",
    "# and the image part of equal magnitude with opposite sign\n",
    "conjugate = c_num.conjugate() # 2 - 3j \n",
    "\n",
    "# We can't use // operator(called floor division operator) for complex numbers\n",
    "# We can use the other arithmetic operators for complex numbers, +, -, *, /, **\n",
    "c_num_x_con = c_num * c_num.conjugate() # 13 + 0j\n",
    "\n",
    "# Be careful\n",
    "# In dir(2), you can see imag\n",
    "# But 2.imag makes SyntaxError: invalid decimal literal\n",
    "# The right way is:\n",
    "two = 2\n",
    "two_real = two.real\n",
    "two_imag = two.imag\n",
    "\n",
    "print(type(conjugate))\n",
    "print(c_num, conjugate, c_num_x_con)\n",
    "print(\"The real part of 2 is: \" + str(two_real))\n",
    "print(\"The image part of 2 is: \" + str(two_imag))"
   ]
  },
  {
   "cell_type": "code",
   "execution_count": 106,
   "metadata": {},
   "outputs": [
    {
     "name": "stdout",
     "output_type": "stream",
     "text": [
      "😀😁😂😃\n",
      "0x1f600\n",
      "abc\n"
     ]
    }
   ],
   "source": [
    "# Unicode and encoding are different things\n",
    "# Python uses Unicode\n",
    "# In Unicode, each character has its own code point\n",
    "# Endcoding is the way converting a code point into a binary string\n",
    "# Python uses Unicode Translation Format UTF-8 and other encodings\n",
    "\n",
    "smiley1 = chr(0x1F600) # The Unicode code point U+1F600\n",
    "smiley2 = chr(0x1F601) # chr() returns the character of a code point\n",
    "smiley3 = chr(0x1F602) # Face with Tears of Joy\n",
    "smiley4 = chr(0x1F603)\n",
    "smiley_bros = smiley1 + smiley2 + smiley3 +smiley4\n",
    "\n",
    "# ord() takes only 1 charcter, and returns the code point of it\n",
    "# The name of the ord() function stands for ordinal\n",
    "smiley1_code_point = hex(ord('😀'))\n",
    "\n",
    "abc = chr(0x0061) + chr(0x0061 + 1) + chr(0x0061 + 2)\n",
    "\n",
    "print(smiley_bros)\n",
    "print(smiley1_code_point)\n",
    "print(abc)"
   ]
  },
  {
   "cell_type": "code",
   "execution_count": 89,
   "metadata": {},
   "outputs": [
    {
     "name": "stdout",
     "output_type": "stream",
     "text": [
      "\\/\\/ Welcome to 'Python Gym'! \\/\\/\n",
      "Let's play with data using \"Python\"\n",
      "The powerful and interesting computer language!\n"
     ]
    }
   ],
   "source": [
    "\n",
    "long_string = \"\\\\/\\\\/ Welcome to \\'Python Gym\\'! \\\\/\\\\/\\n\\\n",
    "Let's play with data using \\\"Python\\\"\\nThe powerful and interesting \\\n",
    "computer language!\"\n",
    "\n",
    "print(long_string)"
   ]
  },
  {
   "cell_type": "code",
   "execution_count": null,
   "metadata": {},
   "outputs": [],
   "source": [
    "# 23456789012345678901234567890123456789012345678901234567890123456789012345678\n",
    "# ______________79_characters_line_including_#_and_the_space___________________"
   ]
  }
 ],
 "metadata": {
  "kernelspec": {
   "display_name": "Python 3.10.5 ('.venv': venv)",
   "language": "python",
   "name": "python3"
  },
  "language_info": {
   "codemirror_mode": {
    "name": "ipython",
    "version": 3
   },
   "file_extension": ".py",
   "mimetype": "text/x-python",
   "name": "python",
   "nbconvert_exporter": "python",
   "pygments_lexer": "ipython3",
   "version": "3.10.5"
  },
  "orig_nbformat": 4,
  "vscode": {
   "interpreter": {
    "hash": "6b570bab3455b67666389aa94b8816bd4728e5d282f5bcdbd0554a3126af7047"
   }
  }
 },
 "nbformat": 4,
 "nbformat_minor": 2
}
